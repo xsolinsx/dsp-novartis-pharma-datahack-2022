{
 "cells": [
  {
   "cell_type": "code",
   "execution_count": 18,
   "id": "d5976e32",
   "metadata": {},
   "outputs": [],
   "source": [
    "import pandas as pd\n",
    "import ipywidgets as widgets\n",
    "import matplotlib.pyplot as plt\n",
    "from IPython.display import display"
   ]
  },
  {
   "cell_type": "code",
   "execution_count": 19,
   "id": "6d4cca39",
   "metadata": {},
   "outputs": [
    {
     "data": {
      "text/html": [
       "<div>\n",
       "<style scoped>\n",
       "    .dataframe tbody tr th:only-of-type {\n",
       "        vertical-align: middle;\n",
       "    }\n",
       "\n",
       "    .dataframe tbody tr th {\n",
       "        vertical-align: top;\n",
       "    }\n",
       "\n",
       "    .dataframe thead th {\n",
       "        text-align: right;\n",
       "    }\n",
       "</style>\n",
       "<table border=\"1\" class=\"dataframe\">\n",
       "  <thead>\n",
       "    <tr style=\"text-align: right;\">\n",
       "      <th></th>\n",
       "      <th>domain</th>\n",
       "      <th>keywords</th>\n",
       "      <th>company_name</th>\n",
       "      <th>predictions</th>\n",
       "    </tr>\n",
       "  </thead>\n",
       "  <tbody>\n",
       "    <tr>\n",
       "      <th>0</th>\n",
       "      <td>https://www.lonza.com/</td>\n",
       "      <td>['molecules', 'gene']</td>\n",
       "      <td>lonza</td>\n",
       "      <td>{'ad': 0.2, 'ds': 0.2, 'dp': 0.6}</td>\n",
       "    </tr>\n",
       "    <tr>\n",
       "      <th>1</th>\n",
       "      <td>https://www.boehringer-ingelheim.com/</td>\n",
       "      <td>['psyshiary', 'health']</td>\n",
       "      <td>Boehringer Ingelheim</td>\n",
       "      <td>{'ad': 0.6, 'ds': 0.1, 'dp': 0.3}</td>\n",
       "    </tr>\n",
       "  </tbody>\n",
       "</table>\n",
       "</div>"
      ],
      "text/plain": [
       "                                  domain                 keywords  \\\n",
       "0                 https://www.lonza.com/    ['molecules', 'gene']   \n",
       "1  https://www.boehringer-ingelheim.com/  ['psyshiary', 'health']   \n",
       "\n",
       "           company_name                        predictions  \n",
       "0                 lonza  {'ad': 0.2, 'ds': 0.2, 'dp': 0.6}  \n",
       "1  Boehringer Ingelheim  {'ad': 0.6, 'ds': 0.1, 'dp': 0.3}  "
      ]
     },
     "execution_count": 19,
     "metadata": {},
     "output_type": "execute_result"
    }
   ],
   "source": [
    "# interactives\n",
    "keywords = pd.read_csv('extracted_keywords.csv')\n",
    "area_of_works_predictions = pd.read_csv('area_of_works_predictions.csv')\n",
    "\"\"\"\n",
    "TODO\n",
    "show a UI with buttons with functionality for flagging domains (which writes to domains_blacklist.txt) and\n",
    "flagging kywords (which writes to keywords_blacklist.txt)\n",
    "\"\"\"\n",
    "DATA = pd.merge(keywords, area_of_works_predictions)\n",
    "DATA"
   ]
  },
  {
   "cell_type": "code",
   "execution_count": 20,
   "id": "347b5ce1",
   "metadata": {},
   "outputs": [],
   "source": [
    "out = widgets.Output(layout={'border': '1px solid black'})"
   ]
  },
  {
   "cell_type": "code",
   "execution_count": 21,
   "id": "0b2e325c",
   "metadata": {},
   "outputs": [],
   "source": [
    "params = [(k, v) for v, k in enumerate(DATA['domain'])]"
   ]
  },
  {
   "cell_type": "code",
   "execution_count": 22,
   "id": "eb88930b",
   "metadata": {},
   "outputs": [],
   "source": [
    "wlist = widgets.SelectMultiple(\n",
    "    options=[],\n",
    "    value=[],\n",
    "    rows=10,\n",
    "    description='Keywords',\n",
    "    disabled=False\n",
    ")"
   ]
  },
  {
   "cell_type": "code",
   "execution_count": 23,
   "id": "1d33dbc0",
   "metadata": {},
   "outputs": [],
   "source": [
    "def show_domain(x=params):\n",
    "    data = eval(DATA.iloc[x]['predictions'])\n",
    "    kwords = eval(DATA.iloc[x]['keywords'])\n",
    "    wlist.options = kwords\n",
    "    name = DATA.iloc[x]['company_name']\n",
    "    text = list(data.keys())\n",
    "    values = list(data.values())\n",
    "    with out:\n",
    "        out.clear_output()\n",
    "        plt.cla() # Clearing the ax\n",
    "        plt.bar(list(range(len(values))), values, edgecolor='k')\n",
    "        for idx, t in enumerate(text):\n",
    "            plt.text(idx, values[idx], f'{100*values[idx]:.0f}%', va='bottom', ha='center', fontsize = 16)\n",
    "        plt.xticks(list(range(len(values))), [s.upper() for s in text], fontsize=16)\n",
    "        plt.ylim(0, 0.8)\n",
    "        plt.yticks([])\n",
    "        plt.title(name)\n",
    "        plt.show('off')\n",
    "        \n",
    "btn_approve = widgets.Button(\n",
    "    description='Approve',\n",
    "    disabled=False,\n",
    "    button_style='info', # 'success', 'info', 'warning', 'danger' or ''\n",
    "    tooltip='Approve!',\n",
    "    icon='check' # (FontAwesome names without the `fa-` prefix)\n",
    ")\n",
    "btn_reject = widgets.Button(\n",
    "    description='Reject',\n",
    "    disabled=False,\n",
    "    button_style='danger', # 'success', 'info', 'warning', 'danger' or ''\n",
    "    tooltip='Reject!',\n",
    "    icon='ban' # (FontAwesome names without the `fa-` prefix)\n",
    ")\n",
    "def approve(*args):\n",
    "    pass\n",
    "def reject(*args):\n",
    "    pass\n",
    "btn_approve.on_click(approve)\n",
    "btn_reject.on_click(reject)"
   ]
  },
  {
   "cell_type": "code",
   "execution_count": 24,
   "id": "b7cd4fe2",
   "metadata": {},
   "outputs": [],
   "source": [
    "w = widgets.interactive(show_domain)"
   ]
  },
  {
   "cell_type": "code",
   "execution_count": 25,
   "id": "ec6314cb",
   "metadata": {},
   "outputs": [],
   "source": [
    "w1 = widgets.VBox([w, widgets.HBox([out, widgets.VBox([wlist, widgets.HBox([btn_approve, btn_reject])])])])\n",
    "w2 = widgets.VBox([out, w, btn_approve])"
   ]
  },
  {
   "cell_type": "code",
   "execution_count": 26,
   "id": "d2744322",
   "metadata": {},
   "outputs": [
    {
     "data": {
      "application/vnd.jupyter.widget-view+json": {
       "model_id": "5323c868e0cb44318eec2297ba453cfc",
       "version_major": 2,
       "version_minor": 0
      },
      "text/plain": [
       "interactive(children=(Dropdown(description='y', options=(('Keywords', 1), ('Other purposes', 2)), value=1), Ou…"
      ]
     },
     "metadata": {},
     "output_type": "display_data"
    }
   ],
   "source": [
    "@widgets.interact()\n",
    "def wid(y=[('Keywords', 1), ('Domain blacklists', 2)]):\n",
    "    if y == 1:\n",
    "        display(w1)\n",
    "    else:\n",
    "        display(w2)"
   ]
  },
  {
   "cell_type": "code",
   "execution_count": 10,
   "id": "26f974ea",
   "metadata": {
    "jupyter": {
     "source_hidden": true
    }
   },
   "outputs": [
    {
     "data": {
      "text/plain": [
       "'\\n# manual parse of the string into dictionary\\ntext = DATA.iloc[0][\\'predictions\\']\\ntmp = {}\\nfor s in text.replace(\\'}\\', \\'\\').split(\\',\\'):\\n    key = s.split(\"\\'\")[1]\\n    val = float(s.split(\\':\\')[1].strip())\\n    tmp[key] = vale\\n'"
      ]
     },
     "execution_count": 10,
     "metadata": {},
     "output_type": "execute_result"
    }
   ],
   "source": [
    "# manual parse of the string into dictionary\n",
    "text = DATA.iloc[0]['predictions']\n",
    "tmp = {}\n",
    "for s in text.replace('}', '').split(','):\n",
    "    key = s.split(\"'\")[1]\n",
    "    val = float(s.split(':')[1].strip())\n",
    "    tmp[key] = vale"
   ]
  },
  {
   "cell_type": "code",
   "execution_count": null,
   "id": "ad6ee4f8",
   "metadata": {},
   "outputs": [],
   "source": []
  }
 ],
 "metadata": {
  "kernelspec": {
   "display_name": "Python 3",
   "language": "python",
   "name": "python3"
  },
  "language_info": {
   "codemirror_mode": {
    "name": "ipython",
    "version": 3
   },
   "file_extension": ".py",
   "mimetype": "text/x-python",
   "name": "python",
   "nbconvert_exporter": "python",
   "pygments_lexer": "ipython3",
   "version": "3.8.5"
  }
 },
 "nbformat": 4,
 "nbformat_minor": 5
}
