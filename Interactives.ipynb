{
 "cells": [
  {
   "cell_type": "code",
   "execution_count": 1,
   "id": "e1c4aeb6",
   "metadata": {},
   "outputs": [],
   "source": [
    "import ipywidgets as widgets\n",
    "import matplotlib.pyplot as plt\n",
    "import pandas as pd\n",
    "from IPython.display import display\n"
   ]
  },
  {
   "cell_type": "code",
   "execution_count": 2,
   "id": "6857a05a",
   "metadata": {},
   "outputs": [],
   "source": [
    "domains = pd.read_csv(\"domains.csv\")\n"
   ]
  },
  {
   "cell_type": "code",
   "execution_count": 6,
   "id": "df25eb96",
   "metadata": {},
   "outputs": [
    {
     "data": {
      "text/plain": [
       "1544"
      ]
     },
     "execution_count": 6,
     "metadata": {},
     "output_type": "execute_result"
    }
   ],
   "source": [
    "len(domains[\"domain\"].unique())\n"
   ]
  },
  {
   "cell_type": "code",
   "execution_count": 208,
   "id": "e34cd2d7",
   "metadata": {},
   "outputs": [
    {
     "data": {
      "text/html": [
       "<div>\n",
       "<style scoped>\n",
       "    .dataframe tbody tr th:only-of-type {\n",
       "        vertical-align: middle;\n",
       "    }\n",
       "\n",
       "    .dataframe tbody tr th {\n",
       "        vertical-align: top;\n",
       "    }\n",
       "\n",
       "    .dataframe thead th {\n",
       "        text-align: right;\n",
       "    }\n",
       "</style>\n",
       "<table border=\"1\" class=\"dataframe\">\n",
       "  <thead>\n",
       "    <tr style=\"text-align: right;\">\n",
       "      <th></th>\n",
       "      <th>domain</th>\n",
       "      <th>keywords</th>\n",
       "      <th>company_name</th>\n",
       "      <th>predictions</th>\n",
       "    </tr>\n",
       "  </thead>\n",
       "  <tbody>\n",
       "    <tr>\n",
       "      <th>0</th>\n",
       "      <td>https://bionicalemas.com/</td>\n",
       "      <td>['clinical trial', 'clinical development', 'qu...</td>\n",
       "      <td>Bionicalemas</td>\n",
       "      <td>{'ad': 0.2, 'ds': 0.2, 'dp': 0.6}</td>\n",
       "    </tr>\n",
       "    <tr>\n",
       "      <th>1</th>\n",
       "      <td>https://abzena.com/</td>\n",
       "      <td>['cell line development', 'cell line', 'cell l...</td>\n",
       "      <td>Abzena</td>\n",
       "      <td>{'ad': 0.5, 'ds': 0.2, 'dp': 0.3}</td>\n",
       "    </tr>\n",
       "    <tr>\n",
       "      <th>2</th>\n",
       "      <td>https://lonza.com</td>\n",
       "      <td>['highly potent apis', 'drug substance', 'cont...</td>\n",
       "      <td>Lonza</td>\n",
       "      <td>{'ad': 0.2, 'ds': 0.2, 'dp': 0.6}</td>\n",
       "    </tr>\n",
       "    <tr>\n",
       "      <th>3</th>\n",
       "      <td>https://www.merck.com/</td>\n",
       "      <td>['research and development', 'clinical trial',...</td>\n",
       "      <td>Merck</td>\n",
       "      <td>{'ad': 0.2, 'ds': 0.4, 'dp': 0.4}</td>\n",
       "    </tr>\n",
       "    <tr>\n",
       "      <th>4</th>\n",
       "      <td>https://www.eurofins.com/</td>\n",
       "      <td>['research and development', 'contract develop...</td>\n",
       "      <td>Eurofins</td>\n",
       "      <td>{'ad': 0.1, 'ds': 0.9, 'dp': 0.1}</td>\n",
       "    </tr>\n",
       "    <tr>\n",
       "      <th>5</th>\n",
       "      <td>https://www.sgs.com/</td>\n",
       "      <td>['research and development', 'quality control'...</td>\n",
       "      <td>Sgs</td>\n",
       "      <td>{'ad': 0.7, 'ds': 0.2, 'dp': 0.1}</td>\n",
       "    </tr>\n",
       "  </tbody>\n",
       "</table>\n",
       "</div>"
      ],
      "text/plain": [
       "                      domain  \\\n",
       "0  https://bionicalemas.com/   \n",
       "1        https://abzena.com/   \n",
       "2          https://lonza.com   \n",
       "3     https://www.merck.com/   \n",
       "4  https://www.eurofins.com/   \n",
       "5       https://www.sgs.com/   \n",
       "\n",
       "                                            keywords  company_name  \\\n",
       "0  ['clinical trial', 'clinical development', 'qu...  Bionicalemas   \n",
       "1  ['cell line development', 'cell line', 'cell l...        Abzena   \n",
       "2  ['highly potent apis', 'drug substance', 'cont...         Lonza   \n",
       "3  ['research and development', 'clinical trial',...         Merck   \n",
       "4  ['research and development', 'contract develop...      Eurofins   \n",
       "5  ['research and development', 'quality control'...           Sgs   \n",
       "\n",
       "                         predictions  \n",
       "0  {'ad': 0.2, 'ds': 0.2, 'dp': 0.6}  \n",
       "1  {'ad': 0.5, 'ds': 0.2, 'dp': 0.3}  \n",
       "2  {'ad': 0.2, 'ds': 0.2, 'dp': 0.6}  \n",
       "3  {'ad': 0.2, 'ds': 0.4, 'dp': 0.4}  \n",
       "4  {'ad': 0.1, 'ds': 0.9, 'dp': 0.1}  \n",
       "5  {'ad': 0.7, 'ds': 0.2, 'dp': 0.1}  "
      ]
     },
     "execution_count": 208,
     "metadata": {},
     "output_type": "execute_result"
    }
   ],
   "source": [
    "# interactives\n",
    "keywords = pd.read_csv(\"extracted_keywords.csv\")\n",
    "area_of_works_predictions = pd.read_csv(\"area_of_works_predictions_.csv\")\n",
    "\"\"\"\n",
    "TODO\n",
    "show a UI with buttons with functionality for flagging domains (which writes to domains_blacklist.txt) and\n",
    "flagging kywords (which writes to keywords_blacklist.txt)\n",
    "\"\"\"\n",
    "DATA = pd.merge(keywords, area_of_works_predictions)\n",
    "DATA\n"
   ]
  },
  {
   "cell_type": "code",
   "execution_count": 209,
   "id": "2cc41180",
   "metadata": {},
   "outputs": [],
   "source": [
    "out = widgets.Output(layout={\"border\": \"1px solid black\"})\n"
   ]
  },
  {
   "cell_type": "code",
   "execution_count": 210,
   "id": "8668c2f3",
   "metadata": {},
   "outputs": [],
   "source": [
    "params = [(k, v) for v, k in enumerate(DATA[\"domain\"])]\n"
   ]
  },
  {
   "cell_type": "code",
   "execution_count": 211,
   "id": "b664cc85",
   "metadata": {},
   "outputs": [],
   "source": [
    "wlist = widgets.SelectMultiple(\n",
    "    options=[], value=[], rows=10, description=\"Keywords\", disabled=False\n",
    ")\n"
   ]
  },
  {
   "cell_type": "code",
   "execution_count": 212,
   "id": "09f91c86",
   "metadata": {},
   "outputs": [],
   "source": [
    "def show_domain(x=params):\n",
    "    data = eval(DATA.iloc[x][\"predictions\"])\n",
    "    kwords = eval(DATA.iloc[x][\"keywords\"])\n",
    "    wlist.options = kwords\n",
    "    name = DATA.iloc[x][\"company_name\"]\n",
    "    text = list(data.keys())\n",
    "    values = list(data.values())\n",
    "    with out:\n",
    "        out.clear_output()\n",
    "        plt.cla()  # Clearing the ax\n",
    "        plt.bar(list(range(len(values))), values, edgecolor=\"k\")\n",
    "        for idx, t in enumerate(text):\n",
    "            plt.text(\n",
    "                idx,\n",
    "                values[idx],\n",
    "                f\"{100*values[idx]:.0f}%\",\n",
    "                va=\"bottom\",\n",
    "                ha=\"center\",\n",
    "                fontsize=16,\n",
    "            )\n",
    "        plt.xticks(list(range(len(values))), [s.upper() for s in text], fontsize=16)\n",
    "        plt.ylim(0, 0.8)\n",
    "        plt.yticks([])\n",
    "        plt.title(name)\n",
    "        plt.show(\"off\")\n",
    "\n",
    "\n",
    "btn_approve = widgets.Button(\n",
    "    description=\"Approve\",\n",
    "    disabled=False,\n",
    "    button_style=\"info\",  # 'success', 'info', 'warning', 'danger' or ''\n",
    "    tooltip=\"Approve!\",\n",
    "    icon=\"check\",  # (FontAwesome names without the `fa-` prefix)\n",
    ")\n",
    "btn_reject = widgets.Button(\n",
    "    description=\"Reject\",\n",
    "    disabled=False,\n",
    "    button_style=\"danger\",  # 'success', 'info', 'warning', 'danger' or ''\n",
    "    tooltip=\"Reject!\",\n",
    "    icon=\"ban\",  # (FontAwesome names without the `fa-` prefix)\n",
    ")\n",
    "\n",
    "\n",
    "def approve(*args):\n",
    "    pass\n",
    "\n",
    "\n",
    "def reject(*args):\n",
    "    pass\n",
    "\n",
    "\n",
    "btn_approve.on_click(approve)\n",
    "btn_reject.on_click(reject)\n"
   ]
  },
  {
   "cell_type": "code",
   "execution_count": 213,
   "id": "5dd3c8f0",
   "metadata": {},
   "outputs": [],
   "source": [
    "w = widgets.interactive(show_domain)\n"
   ]
  },
  {
   "cell_type": "code",
   "execution_count": 214,
   "id": "98b1d08e",
   "metadata": {},
   "outputs": [],
   "source": [
    "w_predictions = widgets.VBox(\n",
    "    [\n",
    "        w,\n",
    "        widgets.HBox(\n",
    "            [out, widgets.VBox([wlist, widgets.HBox([btn_approve, btn_reject])])]\n",
    "        ),\n",
    "    ]\n",
    ")\n",
    "w2 = widgets.VBox([out, w, btn_approve])\n"
   ]
  },
  {
   "cell_type": "code",
   "execution_count": 215,
   "id": "e57e46cc",
   "metadata": {},
   "outputs": [
    {
     "data": {
      "application/vnd.jupyter.widget-view+json": {
       "model_id": "81d8ead7ff3741b2aaa6a1a32502a16f",
       "version_major": 2,
       "version_minor": 0
      },
      "text/plain": [
       "interactive(children=(Dropdown(description='Action', options=(('Predictions', 1), ('Domain blacklists', 2)), v…"
      ]
     },
     "metadata": {},
     "output_type": "display_data"
    }
   ],
   "source": [
    "@widgets.interact()\n",
    "def wid(Action=[(\"Predictions\", 1), (\"Domain blacklists\", 2)]):\n",
    "    if Action == 1:\n",
    "        display(w_predictions)\n",
    "    else:\n",
    "        display(w_blacklist)\n"
   ]
  },
  {
   "cell_type": "code",
   "execution_count": 10,
   "id": "2d918f13",
   "metadata": {
    "jupyter": {
     "source_hidden": true
    }
   },
   "outputs": [
    {
     "data": {
      "text/plain": [
       "'\\n# manual parse of the string into dictionary\\ntext = DATA.iloc[0][\\'predictions\\']\\ntmp = {}\\nfor s in text.replace(\\'}\\', \\'\\').split(\\',\\'):\\n    key = s.split(\"\\'\")[1]\\n    val = float(s.split(\\':\\')[1].strip())\\n    tmp[key] = vale\\n'"
      ]
     },
     "execution_count": 10,
     "metadata": {},
     "output_type": "execute_result"
    }
   ],
   "source": [
    "# manual parse of the string into dictionary\n",
    "text = DATA.iloc[0][\"predictions\"]\n",
    "tmp = {}\n",
    "for s in text.replace(\"}\", \"\").split(\",\"):\n",
    "    key = s.split(\"'\")[1]\n",
    "    val = float(s.split(\":\")[1].strip())\n",
    "    tmp[key] = vale\n"
   ]
  },
  {
   "cell_type": "markdown",
   "id": "6444b145",
   "metadata": {},
   "source": [
    "# Domains blacklist"
   ]
  },
  {
   "cell_type": "code",
   "execution_count": 22,
   "id": "fe121fea",
   "metadata": {},
   "outputs": [],
   "source": [
    "domains_blacklist = pd.read_csv(\"domain_blacklist.txt\", names=[\"domain\"])[\n",
    "    \"domain\"\n",
    "].to_list()\n"
   ]
  },
  {
   "cell_type": "code",
   "execution_count": 16,
   "id": "c65a167a",
   "metadata": {},
   "outputs": [
    {
     "data": {
      "text/html": [
       "<div>\n",
       "<style scoped>\n",
       "    .dataframe tbody tr th:only-of-type {\n",
       "        vertical-align: middle;\n",
       "    }\n",
       "\n",
       "    .dataframe tbody tr th {\n",
       "        vertical-align: top;\n",
       "    }\n",
       "\n",
       "    .dataframe thead th {\n",
       "        text-align: right;\n",
       "    }\n",
       "</style>\n",
       "<table border=\"1\" class=\"dataframe\">\n",
       "  <thead>\n",
       "    <tr style=\"text-align: right;\">\n",
       "      <th></th>\n",
       "      <th>academic.oup.com</th>\n",
       "    </tr>\n",
       "  </thead>\n",
       "  <tbody>\n",
       "    <tr>\n",
       "      <th>0</th>\n",
       "      <td>aip.scitation.org</td>\n",
       "    </tr>\n",
       "    <tr>\n",
       "      <th>1</th>\n",
       "      <td>apic.cefic.org</td>\n",
       "    </tr>\n",
       "    <tr>\n",
       "      <th>2</th>\n",
       "      <td>apps.who.int</td>\n",
       "    </tr>\n",
       "    <tr>\n",
       "      <th>3</th>\n",
       "      <td>apsjournals.apsnet.org</td>\n",
       "    </tr>\n",
       "    <tr>\n",
       "      <th>4</th>\n",
       "      <td>biologydictionary.net</td>\n",
       "    </tr>\n",
       "    <tr>\n",
       "      <th>...</th>\n",
       "      <td>...</td>\n",
       "    </tr>\n",
       "    <tr>\n",
       "      <th>184</th>\n",
       "      <td>www.wordreference.com</td>\n",
       "    </tr>\n",
       "    <tr>\n",
       "      <th>185</th>\n",
       "      <td>www.youtube.com</td>\n",
       "    </tr>\n",
       "    <tr>\n",
       "      <th>186</th>\n",
       "      <td>www.ziprecruiter.com</td>\n",
       "    </tr>\n",
       "    <tr>\n",
       "      <th>187</th>\n",
       "      <td>xtalks.com</td>\n",
       "    </tr>\n",
       "    <tr>\n",
       "      <th>188</th>\n",
       "      <td>zetsukashi.comuni.fvg.it</td>\n",
       "    </tr>\n",
       "  </tbody>\n",
       "</table>\n",
       "<p>189 rows × 1 columns</p>\n",
       "</div>"
      ],
      "text/plain": [
       "             academic.oup.com\n",
       "0           aip.scitation.org\n",
       "1              apic.cefic.org\n",
       "2                apps.who.int\n",
       "3      apsjournals.apsnet.org\n",
       "4       biologydictionary.net\n",
       "..                        ...\n",
       "184     www.wordreference.com\n",
       "185           www.youtube.com\n",
       "186      www.ziprecruiter.com\n",
       "187                xtalks.com\n",
       "188  zetsukashi.comuni.fvg.it\n",
       "\n",
       "[189 rows x 1 columns]"
      ]
     },
     "execution_count": 16,
     "metadata": {},
     "output_type": "execute_result"
    }
   ],
   "source": [
    "def remove_from_blacklist()"
   ]
  },
  {
   "cell_type": "code",
   "execution_count": 44,
   "id": "6d50352d",
   "metadata": {},
   "outputs": [],
   "source": [
    "blist = widgets.SelectMultiple(\n",
    "    options=domains_blacklist, value=[], rows=10, description=\"Domains\", disabled=False\n",
    ")\n",
    "domain_add_to_blacklist = widgets.Text(\n",
    "    value=\"\", placeholder=\"...add domain...\", description=\"\", disabled=False\n",
    ")\n"
   ]
  },
  {
   "cell_type": "code",
   "execution_count": 118,
   "id": "2701feb2",
   "metadata": {},
   "outputs": [],
   "source": [
    "btn_add_to_blacklist = widgets.Button(\n",
    "    description=\"Add to blacklist\",\n",
    "    disabled=False,\n",
    "    button_style=\"success\",  # 'success', 'info', 'warning', 'danger' or ''\n",
    "    tooltip=\"Add\",\n",
    "    icon=\"check\",  # (FontAwesome names without the `fa-` prefix)\n",
    ")\n",
    "btn_remove_from_blacklist = widgets.Button(\n",
    "    description=\"Remove from blacklist\",\n",
    "    disabled=False,\n",
    "    button_style=\"info\",  # 'success', 'info', 'warning', 'danger' or ''\n",
    "    tooltip=\"Remove\",\n",
    "    layout=widgets.Layout(width=\"95%\", alignment=\"right\"),\n",
    "    icon=\"check\",  # (FontAwesome names without the `fa-` prefix)\n",
    ")\n",
    "\n",
    "\n",
    "def add_to_blacklist(*args):\n",
    "    new = domain_add_to_blacklist.value\n",
    "    if len(new) > 0 and \".\" in new:\n",
    "        options = list(blist.options)\n",
    "        if new not in options:\n",
    "            options.append(new)\n",
    "            options.sort()\n",
    "            blist.options = options\n",
    "\n",
    "\n",
    "def remove_from_blacklist(*args):\n",
    "    selected = blist.value\n",
    "    if len(selected) > 0:\n",
    "        blist.options = [sel for sel in blist.options if sel not in selected]\n",
    "\n",
    "\n",
    "btn_remove_from_blacklist.on_click(remove_from_blacklist)\n",
    "btn_add_to_blacklist.on_click(add_to_blacklist)\n"
   ]
  },
  {
   "cell_type": "code",
   "execution_count": 119,
   "id": "4eaae5c7",
   "metadata": {},
   "outputs": [],
   "source": [
    "w_blacklist = widgets.HBox(\n",
    "    [\n",
    "        widgets.VBox([blist, btn_remove_from_blacklist]),\n",
    "        widgets.VBox([domain_add_to_blacklist, btn_add_to_blacklist]),\n",
    "    ],\n",
    "    box_style=\"warning\",\n",
    ")\n"
   ]
  },
  {
   "cell_type": "code",
   "execution_count": 120,
   "id": "58b44a0a",
   "metadata": {},
   "outputs": [
    {
     "data": {
      "application/vnd.jupyter.widget-view+json": {
       "model_id": "1ec5939db203439d8ec793ff983bfde5",
       "version_major": 2,
       "version_minor": 0
      },
      "text/plain": [
       "HBox(box_style='warning', children=(VBox(children=(SelectMultiple(description='Domains', index=(0,), options=(…"
      ]
     },
     "metadata": {},
     "output_type": "display_data"
    }
   ],
   "source": [
    "w_blacklist\n"
   ]
  },
  {
   "cell_type": "code",
   "execution_count": 62,
   "id": "f889a218",
   "metadata": {},
   "outputs": [
    {
     "data": {
      "text/plain": [
       "\u001b[1;31mInit signature:\u001b[0m \u001b[0mwidgets\u001b[0m\u001b[1;33m.\u001b[0m\u001b[0mHBox\u001b[0m\u001b[1;33m(\u001b[0m\u001b[1;33m*\u001b[0m\u001b[0margs\u001b[0m\u001b[1;33m,\u001b[0m \u001b[1;33m**\u001b[0m\u001b[0mkwargs\u001b[0m\u001b[1;33m)\u001b[0m\u001b[1;33m\u001b[0m\u001b[1;33m\u001b[0m\u001b[0m\n",
       "\u001b[1;31mDocstring:\u001b[0m     \n",
       "Displays multiple widgets horizontally using the flexible box model.\n",
       "\n",
       "Parameters\n",
       "----------\n",
       "children: iterable of Widget instances\n",
       "    list of widgets to display\n",
       "\n",
       "box_style: str\n",
       "    one of 'success', 'info', 'warning' or 'danger', or ''.\n",
       "    Applies a predefined style to the box. Defaults to '',\n",
       "    which applies no pre-defined style.\n",
       "\n",
       "Examples\n",
       "--------\n",
       ">>> import ipywidgets as widgets\n",
       ">>> title_widget = widgets.HTML('<em>Horizontal Box Example</em>')\n",
       ">>> slider = widgets.IntSlider()\n",
       ">>> widgets.HBox([title_widget, slider])\n",
       "\u001b[1;31mInit docstring:\u001b[0m Public constructor\n",
       "\u001b[1;31mFile:\u001b[0m           c:\\python3\\lib\\site-packages\\ipywidgets\\widgets\\widget_box.py\n",
       "\u001b[1;31mType:\u001b[0m           MetaHasTraits\n",
       "\u001b[1;31mSubclasses:\u001b[0m     \n"
      ]
     },
     "metadata": {},
     "output_type": "display_data"
    }
   ],
   "source": [
    "widgets.HBox?"
   ]
  },
  {
   "cell_type": "code",
   "execution_count": 219,
   "id": "6d4d61b0",
   "metadata": {},
   "outputs": [
    {
     "data": {
      "application/vnd.jupyter.widget-view+json": {
       "model_id": "d851e4a0ec8b43cf94a460d003bcf5b3",
       "version_major": 2,
       "version_minor": 0
      },
      "text/plain": [
       "Tab(children=(VBox(children=(interactive(children=(Dropdown(description='x', options=(('https://bionicalemas.c…"
      ]
     },
     "metadata": {},
     "output_type": "display_data"
    }
   ],
   "source": [
    "tab_contents = [\"P0\", \"P1\", \"P2\", \"P3\", \"P4\"]\n",
    "children = [w_predictions, w_blacklist]\n",
    "tab = widgets.Tab()\n",
    "tab.children = children\n",
    "tab.titles = (\n",
    "    \"Company_activities\",\n",
    "    \"Domain blacklist\",\n",
    ")  # does not work, wtf\n",
    "tab\n"
   ]
  },
  {
   "cell_type": "markdown",
   "id": "0152eb36",
   "metadata": {},
   "source": [
    "# Classifier"
   ]
  },
  {
   "cell_type": "code",
   "execution_count": 221,
   "id": "10e89a28",
   "metadata": {},
   "outputs": [],
   "source": [
    "from sklearn.neural_network import MLPRegressor\n",
    "import pandas as pd\n",
    "import numpy as np\n",
    "from random import randint, choice\n",
    "from sklearn.preprocessing import StandardScaler\n",
    "\n",
    "filename = \"Hackathon_Market research_keywords.xlsx\"\n",
    "activities = \"AD\", \"DS\", \"DP\"\n",
    "keywords = {}\n",
    "for act in activities:\n",
    "    data = pd.read_excel(filename, sheet_name=act)\n",
    "    kw = []\n",
    "    for col in [\"keyword\", \"synonyms\", \"hyponyms\"]:\n",
    "        kw_ = data[col].to_list()\n",
    "        for kw__ in kw_:\n",
    "            if not pd.isna(kw__):\n",
    "                kw___ = [a.strip() for a in kw__.split(\",\")]\n",
    "                kw.extend(kw___)\n",
    "    keywords[act] = kw\n",
    "KEYWORDS = []\n",
    "for act in activities:\n",
    "    KEYWORDS.extend(keywords[act])\n",
    "N = len(KEYWORDS)\n",
    "data_x = np.arange(N)[:, None]\n",
    "data_y = np.zeros((N, 3))\n",
    "s = 0\n",
    "l = len(keywords[activities[0]])\n",
    "data_y[s:l, :] = np.array([1, 0, 0])\n",
    "s += l\n",
    "l = len(keywords[activities[1]])\n",
    "data_y[s : s + l, :] = np.array([0, 1, 0])\n",
    "s += l\n",
    "l = len(keywords[activities[2]])\n",
    "data_y[s : s + l, :] = np.array([[0, 0, 1]])\n",
    "N = len(KEYWORDS)\n",
    "model = MLPRegressor(hidden_layer_sizes=(100, 100))\n",
    "sub = [randint(0, N - 1) for k in range(1000)]\n",
    "scaler_x = StandardScaler()\n",
    "train_x = scaler_x.fit_transform(data_x[sub])\n",
    "train_y = data_y[sub]\n",
    "model.fit(train_x, train_y)\n",
    "\n",
    "\n",
    "def predict(kwr):\n",
    "    if kwr in KEYWORDS:\n",
    "        idx = KEYWORDS.index(kwr)\n",
    "        s = model.predict(scaler_x.transform([[idx]]))\n",
    "        return s  # np.argmax(s)\n",
    "    else:\n",
    "        return None\n",
    "\n",
    "\n",
    "def norm(x):\n",
    "    y = np.exp(x)\n",
    "    return y / y.sum()\n"
   ]
  },
  {
   "cell_type": "code",
   "execution_count": 223,
   "id": "48d008a6",
   "metadata": {},
   "outputs": [
    {
     "data": {
      "text/html": [
       "<div>\n",
       "<style scoped>\n",
       "    .dataframe tbody tr th:only-of-type {\n",
       "        vertical-align: middle;\n",
       "    }\n",
       "\n",
       "    .dataframe tbody tr th {\n",
       "        vertical-align: top;\n",
       "    }\n",
       "\n",
       "    .dataframe thead th {\n",
       "        text-align: right;\n",
       "    }\n",
       "</style>\n",
       "<table border=\"1\" class=\"dataframe\">\n",
       "  <thead>\n",
       "    <tr style=\"text-align: right;\">\n",
       "      <th></th>\n",
       "      <th>domain</th>\n",
       "      <th>keywords</th>\n",
       "      <th>company_name</th>\n",
       "      <th>predictions</th>\n",
       "    </tr>\n",
       "  </thead>\n",
       "  <tbody>\n",
       "    <tr>\n",
       "      <th>0</th>\n",
       "      <td>https://bionicalemas.com/</td>\n",
       "      <td>['clinical trial', 'clinical development', 'qu...</td>\n",
       "      <td>Bionicalemas</td>\n",
       "      <td>{'AD': 0.22850377830756935, 'DS': 0.4311406734...</td>\n",
       "    </tr>\n",
       "    <tr>\n",
       "      <th>1</th>\n",
       "      <td>https://abzena.com/</td>\n",
       "      <td>['cell line development', 'cell line', 'cell l...</td>\n",
       "      <td>Abzena</td>\n",
       "      <td>{'AD': 0.22648483710117495, 'DS': 0.5583872800...</td>\n",
       "    </tr>\n",
       "    <tr>\n",
       "      <th>2</th>\n",
       "      <td>https://lonza.com</td>\n",
       "      <td>['highly potent apis', 'drug substance', 'cont...</td>\n",
       "      <td>Lonza</td>\n",
       "      <td>{'AD': 0.24318441684213035, 'DS': 0.5401136497...</td>\n",
       "    </tr>\n",
       "    <tr>\n",
       "      <th>3</th>\n",
       "      <td>https://www.merck.com/</td>\n",
       "      <td>['research and development', 'clinical trial',...</td>\n",
       "      <td>Merck</td>\n",
       "      <td>{'AD': 0.22907534280240804, 'DS': 0.4363162561...</td>\n",
       "    </tr>\n",
       "    <tr>\n",
       "      <th>4</th>\n",
       "      <td>https://www.eurofins.com/</td>\n",
       "      <td>['research and development', 'contract develop...</td>\n",
       "      <td>Eurofins</td>\n",
       "      <td>{'AD': 0.22830629927080573, 'DS': 0.4773450960...</td>\n",
       "    </tr>\n",
       "    <tr>\n",
       "      <th>5</th>\n",
       "      <td>https://www.sgs.com/</td>\n",
       "      <td>['research and development', 'quality control'...</td>\n",
       "      <td>Sgs</td>\n",
       "      <td>{'AD': 0.24370018931306944, 'DS': 0.4442398288...</td>\n",
       "    </tr>\n",
       "  </tbody>\n",
       "</table>\n",
       "</div>"
      ],
      "text/plain": [
       "                      domain  \\\n",
       "0  https://bionicalemas.com/   \n",
       "1        https://abzena.com/   \n",
       "2          https://lonza.com   \n",
       "3     https://www.merck.com/   \n",
       "4  https://www.eurofins.com/   \n",
       "5       https://www.sgs.com/   \n",
       "\n",
       "                                            keywords  company_name  \\\n",
       "0  ['clinical trial', 'clinical development', 'qu...  Bionicalemas   \n",
       "1  ['cell line development', 'cell line', 'cell l...        Abzena   \n",
       "2  ['highly potent apis', 'drug substance', 'cont...         Lonza   \n",
       "3  ['research and development', 'clinical trial',...         Merck   \n",
       "4  ['research and development', 'contract develop...      Eurofins   \n",
       "5  ['research and development', 'quality control'...           Sgs   \n",
       "\n",
       "                                         predictions  \n",
       "0  {'AD': 0.22850377830756935, 'DS': 0.4311406734...  \n",
       "1  {'AD': 0.22648483710117495, 'DS': 0.5583872800...  \n",
       "2  {'AD': 0.24318441684213035, 'DS': 0.5401136497...  \n",
       "3  {'AD': 0.22907534280240804, 'DS': 0.4363162561...  \n",
       "4  {'AD': 0.22830629927080573, 'DS': 0.4773450960...  \n",
       "5  {'AD': 0.24370018931306944, 'DS': 0.4442398288...  "
      ]
     },
     "execution_count": 223,
     "metadata": {},
     "output_type": "execute_result"
    }
   ],
   "source": [
    "DATA\n"
   ]
  },
  {
   "cell_type": "code",
   "execution_count": 224,
   "id": "c44e24be",
   "metadata": {},
   "outputs": [
    {
     "name": "stdout",
     "output_type": "stream",
     "text": [
      "Bionicalemas [0.23009651 0.43597215 0.33393134]\n",
      "Abzena [0.22451495 0.5597479  0.21573715]\n",
      "Lonza [0.23845676 0.54306738 0.21847586]\n",
      "Merck [0.22955944 0.43991445 0.33052611]\n",
      "Eurofins [0.22870389 0.48497855 0.28631756]\n",
      "Sgs [0.2463513  0.44535869 0.30829001]\n"
     ]
    }
   ],
   "source": [
    "for i in range(6):\n",
    "    kwords = eval(DATA.iloc[i][\"keywords\"])\n",
    "    pred = np.array([0.0, 0, 0])\n",
    "    s = 0\n",
    "    for kw in kwords:\n",
    "        p = predict(kw)\n",
    "        if not p is None:\n",
    "            pred += p[0]\n",
    "            s += 1\n",
    "    pred /= s\n",
    "    print(DATA.iloc[i][\"company_name\"], norm(pred))\n"
   ]
  },
  {
   "cell_type": "code",
   "execution_count": 216,
   "id": "3aaa19c2",
   "metadata": {},
   "outputs": [],
   "source": [
    "data = pd.read_csv(\"extracted_keywords.csv\")\n",
    "predictions = []\n",
    "for i in range(len(data[\"domain\"])):\n",
    "    kws = eval(data.iloc[i][\"keywords\"])\n",
    "    pred = np.array([0.0, 0, 0])\n",
    "    s = 0\n",
    "    for kw in kws:\n",
    "        p = predict(kw)\n",
    "        if not p is None:\n",
    "            pred += p[0]\n",
    "            s += 1\n",
    "    pred /= s\n",
    "    pred = norm(pred)\n",
    "    pred_str = {\"AD\": pred[0], \"DS\": pred[1], \"DP\": pred[2]}\n",
    "    predictions.append(str(pred_str))\n",
    "data[\"predictions\"] = predictions\n"
   ]
  },
  {
   "cell_type": "code",
   "execution_count": 217,
   "id": "570ef2ef",
   "metadata": {},
   "outputs": [],
   "source": [
    "DATA = data\n"
   ]
  },
  {
   "cell_type": "code",
   "execution_count": null,
   "id": "4f4efd56",
   "metadata": {},
   "outputs": [],
   "source": []
  }
 ],
 "metadata": {
  "kernelspec": {
   "display_name": "Python 3",
   "language": "python",
   "name": "python3"
  },
  "language_info": {
   "codemirror_mode": {
    "name": "ipython",
    "version": 3
   },
   "file_extension": ".py",
   "mimetype": "text/x-python",
   "name": "python",
   "nbconvert_exporter": "python",
   "pygments_lexer": "ipython3",
   "version": "3.8.5"
  }
 },
 "nbformat": 4,
 "nbformat_minor": 5
}
