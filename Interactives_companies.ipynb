{
 "cells": [
  {
   "cell_type": "code",
   "execution_count": 3,
   "id": "75c37a4a",
   "metadata": {},
   "outputs": [],
   "source": [
    "import ipywidgets as widgets\n",
    "import matplotlib.pyplot as plt\n",
    "import pandas as pd\n"
   ]
  },
  {
   "cell_type": "code",
   "execution_count": 65,
   "id": "fb80a9eb",
   "metadata": {},
   "outputs": [
    {
     "data": {
      "text/html": [
       "<div>\n",
       "<style scoped>\n",
       "    .dataframe tbody tr th:only-of-type {\n",
       "        vertical-align: middle;\n",
       "    }\n",
       "\n",
       "    .dataframe tbody tr th {\n",
       "        vertical-align: top;\n",
       "    }\n",
       "\n",
       "    .dataframe thead th {\n",
       "        text-align: right;\n",
       "    }\n",
       "</style>\n",
       "<table border=\"1\" class=\"dataframe\">\n",
       "  <thead>\n",
       "    <tr style=\"text-align: right;\">\n",
       "      <th></th>\n",
       "      <th>domain</th>\n",
       "      <th>keywords</th>\n",
       "      <th>company_name</th>\n",
       "      <th>not_mapped</th>\n",
       "      <th>mapping_area</th>\n",
       "      <th>prediction</th>\n",
       "    </tr>\n",
       "  </thead>\n",
       "  <tbody>\n",
       "    <tr>\n",
       "      <th>0</th>\n",
       "      <td>https://1library.net</td>\n",
       "      <td>['research and development', 'quality assuranc...</td>\n",
       "      <td>1library</td>\n",
       "      <td>['gdp', 'api']</td>\n",
       "      <td>{'research and development': ['DS'], 'quality ...</td>\n",
       "      <td>{'DP': 0.3462, 'DS': 0.5769, 'AD': 0.0769}</td>\n",
       "    </tr>\n",
       "    <tr>\n",
       "      <th>1</th>\n",
       "      <td>https://3pbio.com</td>\n",
       "      <td>['recombinant proteins', 'clinical manufacturi...</td>\n",
       "      <td>3pbio</td>\n",
       "      <td>['gmp', 'cgmp']</td>\n",
       "      <td>{'recombinant proteins': ['DS'], 'clinical man...</td>\n",
       "      <td>{'DP': 0.1818, 'DS': 0.8182, 'AD': 0.0}</td>\n",
       "    </tr>\n",
       "    <tr>\n",
       "      <th>2</th>\n",
       "      <td>https://908devices.com</td>\n",
       "      <td>['capillary electrophoresis', 'mammalian cell ...</td>\n",
       "      <td>908devices</td>\n",
       "      <td>['ms']</td>\n",
       "      <td>{'capillary electrophoresis': ['AD'], 'mammali...</td>\n",
       "      <td>{'DP': 0.1154, 'DS': 0.6538, 'AD': 0.2308}</td>\n",
       "    </tr>\n",
       "    <tr>\n",
       "      <th>3</th>\n",
       "      <td>https://99bitcoins.com</td>\n",
       "      <td>['solution', 'research', 'development', 'teste...</td>\n",
       "      <td>99bitcoins</td>\n",
       "      <td>['cex', 'ad', 'sec']</td>\n",
       "      <td>{'solution': ['DP'], 'research': ['DS'], 'deve...</td>\n",
       "      <td>{'DP': 0.4167, 'DS': 0.5833, 'AD': 0.0}</td>\n",
       "    </tr>\n",
       "    <tr>\n",
       "      <th>4</th>\n",
       "      <td>https://abzena.com</td>\n",
       "      <td>['cell line development', 'mammalian cell cult...</td>\n",
       "      <td>Abzena</td>\n",
       "      <td>[]</td>\n",
       "      <td>{'cell line development': ['DS'], 'mammalian c...</td>\n",
       "      <td>{'DP': 0.0667, 'DS': 0.9333, 'AD': 0.0}</td>\n",
       "    </tr>\n",
       "  </tbody>\n",
       "</table>\n",
       "</div>"
      ],
      "text/plain": [
       "                   domain                                           keywords  \\\n",
       "0    https://1library.net  ['research and development', 'quality assuranc...   \n",
       "1       https://3pbio.com  ['recombinant proteins', 'clinical manufacturi...   \n",
       "2  https://908devices.com  ['capillary electrophoresis', 'mammalian cell ...   \n",
       "3  https://99bitcoins.com  ['solution', 'research', 'development', 'teste...   \n",
       "4      https://abzena.com  ['cell line development', 'mammalian cell cult...   \n",
       "\n",
       "  company_name            not_mapped  \\\n",
       "0     1library        ['gdp', 'api']   \n",
       "1        3pbio       ['gmp', 'cgmp']   \n",
       "2   908devices                ['ms']   \n",
       "3   99bitcoins  ['cex', 'ad', 'sec']   \n",
       "4       Abzena                    []   \n",
       "\n",
       "                                        mapping_area  \\\n",
       "0  {'research and development': ['DS'], 'quality ...   \n",
       "1  {'recombinant proteins': ['DS'], 'clinical man...   \n",
       "2  {'capillary electrophoresis': ['AD'], 'mammali...   \n",
       "3  {'solution': ['DP'], 'research': ['DS'], 'deve...   \n",
       "4  {'cell line development': ['DS'], 'mammalian c...   \n",
       "\n",
       "                                   prediction  \n",
       "0  {'DP': 0.3462, 'DS': 0.5769, 'AD': 0.0769}  \n",
       "1     {'DP': 0.1818, 'DS': 0.8182, 'AD': 0.0}  \n",
       "2  {'DP': 0.1154, 'DS': 0.6538, 'AD': 0.2308}  \n",
       "3     {'DP': 0.4167, 'DS': 0.5833, 'AD': 0.0}  \n",
       "4     {'DP': 0.0667, 'DS': 0.9333, 'AD': 0.0}  "
      ]
     },
     "execution_count": 65,
     "metadata": {},
     "output_type": "execute_result"
    }
   ],
   "source": [
    "DATA = pd.read_csv(\"area_of_work_prediction2.csv\")\n",
    "DATA.head()\n"
   ]
  },
  {
   "cell_type": "code",
   "execution_count": 237,
   "id": "03e98dcc",
   "metadata": {},
   "outputs": [],
   "source": [
    "out = widgets.Output()  # (layout={'border': '1px solid black'})\n"
   ]
  },
  {
   "cell_type": "code",
   "execution_count": 238,
   "id": "3eb06638",
   "metadata": {},
   "outputs": [],
   "source": [
    "# params = [(k, v) for v, k in enumerate(DATA['domain'])]\n"
   ]
  },
  {
   "cell_type": "code",
   "execution_count": 332,
   "id": "2f4bdada",
   "metadata": {},
   "outputs": [],
   "source": [
    "wlist = widgets.SelectMultiple(\n",
    "    options=[], value=[], rows=10, description=\"Keywords\", disabled=False\n",
    ")\n",
    "\n",
    "w_not_mapped_keywords = widgets.SelectMultiple(\n",
    "    options=[], value=[], rows=10, description=\"Not mapped keywords\", disabled=False\n",
    ")\n"
   ]
  },
  {
   "cell_type": "code",
   "execution_count": 240,
   "id": "292e3550",
   "metadata": {},
   "outputs": [],
   "source": [
    "def test_keyword_match(row, keyword):\n",
    "    _keywords = eval(row[\"keywords\"])\n",
    "    return any([keyword in _keyword for _keyword in _keywords])\n"
   ]
  },
  {
   "cell_type": "code",
   "execution_count": 380,
   "id": "83b44e14",
   "metadata": {},
   "outputs": [],
   "source": [
    "# DATA.apply(test_keyword_match, axis=1, args=('resear', ))\n"
   ]
  },
  {
   "cell_type": "code",
   "execution_count": 381,
   "id": "8bcdf421",
   "metadata": {},
   "outputs": [],
   "source": [
    "def show_domain(Domain=params):\n",
    "    predictions = eval(DATA.iloc[Domain][\"prediction\"])\n",
    "    kwords = eval(DATA.iloc[Domain][\"keywords\"])\n",
    "    wlist.options = kwords\n",
    "    name = DATA.iloc[Domain][\"company_name\"]\n",
    "    text = list(predictions.keys())\n",
    "    values = list(predictions.values())\n",
    "    with out:\n",
    "        out.clear_output()\n",
    "        plt.cla()  # Clearing the ax\n",
    "        plt.bar(list(range(len(values))), values, edgecolor=\"k\")\n",
    "        for idx, t in enumerate(text):\n",
    "            plt.text(\n",
    "                idx,\n",
    "                values[idx],\n",
    "                f\"{100*values[idx]:.0f}%\",\n",
    "                va=\"bottom\",\n",
    "                ha=\"center\",\n",
    "                fontsize=16,\n",
    "            )\n",
    "        plt.xticks(list(range(len(values))), [s.upper() for s in text], fontsize=16)\n",
    "        plt.ylim(0, 1)\n",
    "        plt.yticks([])\n",
    "        plt.title(name)\n",
    "        plt.show(\"off\")\n",
    "\n",
    "\n",
    "def show_domain_():\n",
    "    Domain = w_domains_list.value\n",
    "    sub = DATA[\"domain\"] == Domain\n",
    "    if sum(sub) > 0:\n",
    "        predictions = eval(DATA.loc[sub, \"prediction\"].to_list()[0])\n",
    "        kwords = eval(DATA.loc[sub, \"keywords\"].to_list()[0])\n",
    "        wlist.options = kwords\n",
    "        name = DATA.loc[sub, \"company_name\"].to_list()[0]\n",
    "        text = list(predictions.keys())\n",
    "        values = list(predictions.values())\n",
    "        pred = text[values.index(max(values))]\n",
    "        with out:\n",
    "            out.clear_output()\n",
    "            print(\"Company name: \", name)\n",
    "            print(\"Predicted activity: \", pred.upper())\n",
    "            plt.cla()  # Clearing the ax\n",
    "            plt.bar(list(range(len(values))), values, edgecolor=\"k\")\n",
    "            for idx, t in enumerate(text):\n",
    "                plt.text(\n",
    "                    idx,\n",
    "                    values[idx],\n",
    "                    f\"{100*values[idx]:.0f}%\",\n",
    "                    va=\"bottom\",\n",
    "                    ha=\"center\",\n",
    "                    fontsize=16,\n",
    "                )\n",
    "            plt.xticks(list(range(len(values))), [s.upper() for s in text], fontsize=16)\n",
    "            plt.ylim(0, 1)\n",
    "            plt.yticks([])\n",
    "            plt.show(\"off\")\n",
    "    else:\n",
    "        clear_all()\n",
    "\n",
    "\n",
    "btn_approve = widgets.Button(\n",
    "    description=\"Approve domain\",\n",
    "    disabled=False,\n",
    "    button_style=\"success\",  # 'success', 'info', 'warning', 'danger' or ''\n",
    "    tooltip=\"Approve!\",\n",
    "    layout=widgets.Layout(width=\"70%\"),\n",
    "    icon=\"check\",  # (FontAwesome names without the `fa-` prefix)\n",
    ")\n",
    "btn_reject = widgets.Button(\n",
    "    description=\"To blacklist\",\n",
    "    disabled=False,\n",
    "    button_style=\"danger\",  # 'success', 'info', 'warning', 'danger' or ''\n",
    "    tooltip=\"Reject!\",\n",
    "    layout=widgets.Layout(width=\"70%\"),\n",
    "    icon=\"ban\",  # (FontAwesome names without the `fa-` prefix)\n",
    ")\n",
    "\n",
    "\n",
    "def approve(*args):\n",
    "    pass\n",
    "\n",
    "\n",
    "def reject(*args):\n",
    "    pass\n",
    "\n",
    "\n",
    "btn_approve.on_click(approve)\n",
    "btn_reject.on_click(reject)\n"
   ]
  },
  {
   "cell_type": "code",
   "execution_count": 382,
   "id": "d15e1e52",
   "metadata": {},
   "outputs": [],
   "source": [
    "def filter_by_keyword(*args):\n",
    "    clear_all()\n",
    "    filter_keyword = w_filter_text.value\n",
    "    if len(filter_keyword) >= 3:\n",
    "        subset = DATA.apply(test_keyword_match, axis=1, args=(filter_keyword,))\n",
    "        filtered_domains = DATA[subset][\"domain\"]\n",
    "        w_domains_list.options = filtered_domains\n",
    "    else:\n",
    "        w_domains_list.options = DATA[\"domain\"].to_list()\n"
   ]
  },
  {
   "cell_type": "code",
   "execution_count": 383,
   "id": "10c0f8d4",
   "metadata": {},
   "outputs": [],
   "source": [
    "w_filter_text = widgets.Text(\n",
    "    value=\"\", placeholder=\"filter keywords...\", description=\"Filter\", disabled=False\n",
    ")\n",
    "btn_filter = button = widgets.Button(\n",
    "    description=\"Filter!\",\n",
    "    disabled=False,\n",
    "    button_style=\"\",  # 'success', 'info', 'warning', 'danger' or ''\n",
    "    tooltip=\"Click to filter\",\n",
    "    icon=\"check\",  # (FontAwesome names without the `fa-` prefix)\n",
    ")\n",
    "btn_filter.on_click(filter_by_keyword)\n",
    "w_filter = widgets.HBox([w_filter_text, btn_filter])\n"
   ]
  },
  {
   "cell_type": "code",
   "execution_count": 392,
   "id": "53a049bd",
   "metadata": {},
   "outputs": [],
   "source": [
    "w_domains_list = widgets.Dropdown(\n",
    "    options=domains_list, value=domains_list[0], description=\"Domain\"\n",
    ")\n",
    "\n",
    "\n",
    "def on_change(change):\n",
    "    if change[\"type\"] == \"change\":\n",
    "        show_domain_()\n",
    "\n",
    "\n",
    "w_domains_list.observe(on_change)\n"
   ]
  },
  {
   "cell_type": "code",
   "execution_count": 393,
   "id": "04b24fdf",
   "metadata": {},
   "outputs": [],
   "source": [
    "def clear_all():\n",
    "    wlist.options = []\n",
    "    with out:\n",
    "        out.clear_output()\n"
   ]
  },
  {
   "cell_type": "code",
   "execution_count": 394,
   "id": "449ca634",
   "metadata": {},
   "outputs": [],
   "source": [
    "rLayout = widgets.Layout(align_items=\"flex-end\")\n"
   ]
  },
  {
   "cell_type": "code",
   "execution_count": 395,
   "id": "249f9c9c",
   "metadata": {},
   "outputs": [],
   "source": [
    "w_predictions = widgets.VBox(\n",
    "    [\n",
    "        w_filter,\n",
    "        widgets.HBox(\n",
    "            [\n",
    "                widgets.VBox(\n",
    "                    [w_domains_list, wlist, btn_approve, btn_reject], layout=rLayout\n",
    "                ),\n",
    "                out,\n",
    "            ]\n",
    "        ),\n",
    "    ]\n",
    ")\n"
   ]
  },
  {
   "cell_type": "code",
   "execution_count": 396,
   "id": "355adaec",
   "metadata": {},
   "outputs": [],
   "source": [
    "# w_predictions = widgets.VBox([w_filter, w, widgets.HBox([out, widgets.VBox([wlist, widgets.HBox([btn_approve, btn_reject])])])])\n"
   ]
  },
  {
   "cell_type": "code",
   "execution_count": 397,
   "id": "a468f2fd",
   "metadata": {},
   "outputs": [
    {
     "data": {
      "application/vnd.jupyter.widget-view+json": {
       "model_id": "b3ac369911ae484a8b52c1ad46c5765f",
       "version_major": 2,
       "version_minor": 0
      },
      "text/plain": [
       "VBox(children=(HBox(children=(Text(value='', description='Filter', placeholder='filter keywords...'), Button(d…"
      ]
     },
     "metadata": {},
     "output_type": "display_data"
    }
   ],
   "source": [
    "w_predictions\n"
   ]
  },
  {
   "cell_type": "code",
   "execution_count": 72,
   "id": "59ab1629",
   "metadata": {},
   "outputs": [],
   "source": [
    "# manual parse of the string into dictionary\n",
    "text = DATA.iloc[0][\"predictions\"]\n",
    "tmp = {}\n",
    "for s in text.replace(\"}\", \"\").split(\",\"):\n",
    "    key = s.split(\"'\")[1]\n",
    "    val = float(s.split(\":\")[1].strip())\n",
    "    tmp[key] = val\n"
   ]
  },
  {
   "cell_type": "markdown",
   "id": "8fc94c67",
   "metadata": {},
   "source": [
    "# Domains blacklist"
   ]
  },
  {
   "cell_type": "code",
   "execution_count": null,
   "id": "9f78ad12",
   "metadata": {},
   "outputs": [],
   "source": []
  },
  {
   "cell_type": "code",
   "execution_count": 73,
   "id": "07ecc28f",
   "metadata": {},
   "outputs": [],
   "source": [
    "domains_blacklist = pd.read_csv(\"domain_blacklist.txt\", names=[\"domain\"])[\n",
    "    \"domain\"\n",
    "].to_list()\n"
   ]
  },
  {
   "cell_type": "code",
   "execution_count": 74,
   "id": "6a8fe943",
   "metadata": {},
   "outputs": [],
   "source": [
    "# def remove_from_blacklist()\n"
   ]
  },
  {
   "cell_type": "code",
   "execution_count": 75,
   "id": "02c03a1d",
   "metadata": {},
   "outputs": [],
   "source": [
    "blist = widgets.SelectMultiple(\n",
    "    options=domains_blacklist, value=[], rows=10, description=\"Domains\", disabled=False\n",
    ")\n",
    "domain_add_to_blacklist = widgets.Text(\n",
    "    value=\"\", placeholder=\"...add domain...\", description=\"\", disabled=False\n",
    ")\n"
   ]
  },
  {
   "cell_type": "code",
   "execution_count": 76,
   "id": "cddb943b",
   "metadata": {},
   "outputs": [],
   "source": [
    "btn_add_to_blacklist = widgets.Button(\n",
    "    description=\"Add to blacklist\",\n",
    "    disabled=False,\n",
    "    button_style=\"success\",  # 'success', 'info', 'warning', 'danger' or ''\n",
    "    tooltip=\"Add\",\n",
    "    icon=\"check\",  # (FontAwesome names without the `fa-` prefix)\n",
    ")\n",
    "btn_remove_from_blacklist = widgets.Button(\n",
    "    description=\"Remove from blacklist\",\n",
    "    disabled=False,\n",
    "    button_style=\"info\",  # 'success', 'info', 'warning', 'danger' or ''\n",
    "    tooltip=\"Remove\",\n",
    "    layout=widgets.Layout(width=\"95%\", alignment=\"right\"),\n",
    "    icon=\"check\",  # (FontAwesome names without the `fa-` prefix)\n",
    ")\n",
    "\n",
    "\n",
    "def add_to_blacklist(*args):\n",
    "    new = domain_add_to_blacklist.value\n",
    "    if len(new) > 0 and \".\" in new:\n",
    "        options = list(blist.options)\n",
    "        if new not in options:\n",
    "            options.append(new)\n",
    "            options.sort()\n",
    "            blist.options = options\n",
    "\n",
    "\n",
    "def remove_from_blacklist(*args):\n",
    "    selected = blist.value\n",
    "    if len(selected) > 0:\n",
    "        blist.options = [sel for sel in blist.options if sel not in selected]\n",
    "\n",
    "\n",
    "btn_remove_from_blacklist.on_click(remove_from_blacklist)\n",
    "btn_add_to_blacklist.on_click(add_to_blacklist)\n"
   ]
  },
  {
   "cell_type": "code",
   "execution_count": 77,
   "id": "fcd67600",
   "metadata": {},
   "outputs": [],
   "source": [
    "w_blacklist = widgets.HBox(\n",
    "    [\n",
    "        widgets.VBox([blist, btn_remove_from_blacklist]),\n",
    "        widgets.VBox([domain_add_to_blacklist, btn_add_to_blacklist]),\n",
    "    ],\n",
    "    box_style=\"warning\",\n",
    ")\n"
   ]
  },
  {
   "cell_type": "code",
   "execution_count": 78,
   "id": "e8c1a49a",
   "metadata": {},
   "outputs": [
    {
     "data": {
      "application/vnd.jupyter.widget-view+json": {
       "model_id": "9aaf3dac41644e8ebb525a95bb310e15",
       "version_major": 2,
       "version_minor": 0
      },
      "text/plain": [
       "HBox(box_style='warning', children=(VBox(children=(SelectMultiple(description='Domains', options=('*.acs.org',…"
      ]
     },
     "metadata": {},
     "output_type": "display_data"
    }
   ],
   "source": [
    "w_blacklist\n"
   ]
  },
  {
   "cell_type": "code",
   "execution_count": 79,
   "id": "e2311775",
   "metadata": {},
   "outputs": [
    {
     "data": {
      "application/vnd.jupyter.widget-view+json": {
       "model_id": "03931a9263a24bc7ae168e47c399552c",
       "version_major": 2,
       "version_minor": 0
      },
      "text/plain": [
       "Tab(children=(VBox(children=(interactive(children=(Dropdown(description='x', options=(('https://1library.net',…"
      ]
     },
     "metadata": {},
     "output_type": "display_data"
    }
   ],
   "source": [
    "tab_contents = [\"P0\", \"P1\", \"P2\", \"P3\", \"P4\"]\n",
    "children = [w_predictions, w_blacklist]\n",
    "tab = widgets.Tab()\n",
    "tab.children = children\n",
    "tab.titles = (\n",
    "    \"Company_activities\",\n",
    "    \"Domain blacklist\",\n",
    ")  # does not work, wtf\n",
    "tab\n"
   ]
  }
 ],
 "metadata": {
  "kernelspec": {
   "display_name": "Python 3",
   "language": "python",
   "name": "python3"
  },
  "language_info": {
   "codemirror_mode": {
    "name": "ipython",
    "version": 3
   },
   "file_extension": ".py",
   "mimetype": "text/x-python",
   "name": "python",
   "nbconvert_exporter": "python",
   "pygments_lexer": "ipython3",
   "version": "3.8.5"
  }
 },
 "nbformat": 4,
 "nbformat_minor": 5
}
