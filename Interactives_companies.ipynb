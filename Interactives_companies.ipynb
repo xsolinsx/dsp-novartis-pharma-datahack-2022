{
 "cells": [
  {
   "cell_type": "code",
   "execution_count": 61,
   "id": "5d74f522",
   "metadata": {},
   "outputs": [],
   "source": [
    "import pandas as pd\n",
    "import ipywidgets as widgets\n",
    "import matplotlib.pyplot as plt\n",
    "from IPython.display import display\n",
    "from sklearn.neural_network import MLPRegressor\n",
    "from random import randint, choice\n",
    "from sklearn.preprocessing import StandardScaler"
   ]
  },
  {
   "cell_type": "code",
   "execution_count": 62,
   "id": "b8d9d531-06a2-4639-a1cb-9665ae6fc704",
   "metadata": {},
   "outputs": [],
   "source": [
    "filename = 'Hackathon_Market research_keywords.xlsx'\n",
    "activities = 'AD', 'DS', 'DP'\n",
    "keywords = {}\n",
    "for act in activities:\n",
    "    data = pd.read_excel(filename, sheet_name=act)\n",
    "    kw = []\n",
    "    for col in ['keyword', 'synonyms', 'hyponyms']:\n",
    "        kw_ = data[col].to_list()\n",
    "        for kw__ in kw_:\n",
    "            if not pd.isna(kw__):\n",
    "                kw___ = [a.strip() for a in kw__.split(',')]\n",
    "                kw.extend(kw___)\n",
    "    keywords[act] = kw\n",
    "KEYWORDS = []\n",
    "for act in activities:\n",
    "    KEYWORDS.extend(keywords[act])\n",
    "N = len(KEYWORDS)\n",
    "data_x = np.arange(N)[:, None]\n",
    "data_y = np.zeros((N, 3))\n",
    "s = 0\n",
    "l = len(keywords[activities[0]])\n",
    "data_y[s:l, :] = np.array([1,0,0])\n",
    "s += l\n",
    "l = len(keywords[activities[1]])\n",
    "data_y[s:s+l, :] = np.array([0,1,0])\n",
    "s += l\n",
    "l = len(keywords[activities[2]])\n",
    "data_y[s:s+l, :] = np.array([[0,0,1]])\n",
    "N = len(KEYWORDS)\n",
    "model = MLPRegressor(hidden_layer_sizes=(100,100))\n",
    "sub = [randint(0, N-1) for k in range(1000)]\n",
    "scaler_x = StandardScaler()\n",
    "train_x = scaler_x.fit_transform(data_x[sub])\n",
    "train_y = data_y[sub]\n",
    "model.fit(train_x, train_y)\n",
    "def predict(kwr):\n",
    "    if kwr in KEYWORDS:\n",
    "        idx = KEYWORDS.index(kwr)\n",
    "        s = model.predict(scaler_x.transform([[idx]]))\n",
    "        return s#np.argmax(s)\n",
    "    else:\n",
    "        return None\n",
    "def norm(x):\n",
    "    y = np.exp(x)\n",
    "    return y/y.sum()\n",
    "\n",
    "data = pd.read_csv('extracted_keywords.csv')\n",
    "predictions = []\n",
    "for i in range(len(data['domain'])):\n",
    "    kws = eval(data.iloc[i]['keywords'])\n",
    "    pred = np.array([0.0,0,0])\n",
    "    s = 0\n",
    "    for kw in kws:\n",
    "        p = predict(kw)\n",
    "        if not p is None:\n",
    "            pred += p[0]\n",
    "            s += 1\n",
    "    pred /= s\n",
    "    pred = norm(pred)\n",
    "    pred_str = {'AD': pred[0], 'DS': pred[1], 'DP': pred[2]}\n",
    "    predictions.append(str(pred_str))\n",
    "data['predictions'] = predictions"
   ]
  },
  {
   "cell_type": "code",
   "execution_count": 63,
   "id": "f6e272f0-35f4-4fa7-adbf-8c20ffcd8225",
   "metadata": {},
   "outputs": [],
   "source": [
    "DATA = data"
   ]
  },
  {
   "cell_type": "code",
   "execution_count": 64,
   "id": "b643a2ab",
   "metadata": {},
   "outputs": [],
   "source": [
    "out = widgets.Output(layout={'border': '1px solid black'})"
   ]
  },
  {
   "cell_type": "code",
   "execution_count": 65,
   "id": "6e2cfc8b",
   "metadata": {},
   "outputs": [],
   "source": [
    "params = [(k, v) for v, k in enumerate(DATA['domain'])]"
   ]
  },
  {
   "cell_type": "code",
   "execution_count": 66,
   "id": "c4679451",
   "metadata": {},
   "outputs": [],
   "source": [
    "wlist = widgets.SelectMultiple(\n",
    "    options=[],\n",
    "    value=[],\n",
    "    rows=10,\n",
    "    description='Keywords',\n",
    "    disabled=False\n",
    ")"
   ]
  },
  {
   "cell_type": "code",
   "execution_count": 67,
   "id": "e215d1ce",
   "metadata": {},
   "outputs": [],
   "source": [
    "def show_domain(x=params):\n",
    "    data = eval(DATA.iloc[x]['predictions'])\n",
    "    kwords = eval(DATA.iloc[x]['keywords'])\n",
    "    wlist.options = kwords\n",
    "    name = DATA.iloc[x]['company_name']\n",
    "    text = list(data.keys())\n",
    "    values = list(data.values())\n",
    "    with out:\n",
    "        out.clear_output()\n",
    "        plt.cla() # Clearing the ax\n",
    "        plt.bar(list(range(len(values))), values, edgecolor='k')\n",
    "        for idx, t in enumerate(text):\n",
    "            plt.text(idx, values[idx], f'{100*values[idx]:.0f}%', va='bottom', ha='center', fontsize = 16)\n",
    "        plt.xticks(list(range(len(values))), [s.upper() for s in text], fontsize=16)\n",
    "        plt.ylim(0, 0.8)\n",
    "        plt.yticks([])\n",
    "        plt.title(name)\n",
    "        plt.show('off')\n",
    "        \n",
    "btn_approve = widgets.Button(\n",
    "    description='Approve',\n",
    "    disabled=False,\n",
    "    button_style='info', # 'success', 'info', 'warning', 'danger' or ''\n",
    "    tooltip='Approve!',\n",
    "    icon='check' # (FontAwesome names without the `fa-` prefix)\n",
    ")\n",
    "btn_reject = widgets.Button(\n",
    "    description='Reject',\n",
    "    disabled=False,\n",
    "    button_style='danger', # 'success', 'info', 'warning', 'danger' or ''\n",
    "    tooltip='Reject!',\n",
    "    icon='ban' # (FontAwesome names without the `fa-` prefix)\n",
    ")\n",
    "def approve(*args):\n",
    "    pass\n",
    "def reject(*args):\n",
    "    pass\n",
    "btn_approve.on_click(approve)\n",
    "btn_reject.on_click(reject)"
   ]
  },
  {
   "cell_type": "code",
   "execution_count": 68,
   "id": "bbd12334",
   "metadata": {},
   "outputs": [],
   "source": [
    "w = widgets.interactive(show_domain)"
   ]
  },
  {
   "cell_type": "code",
   "execution_count": 69,
   "id": "9089478e",
   "metadata": {},
   "outputs": [],
   "source": [
    "w_predictions = widgets.VBox([w, widgets.HBox([out, widgets.VBox([wlist, widgets.HBox([btn_approve, btn_reject])])])])\n",
    "w2 = widgets.VBox([out, w, btn_approve])"
   ]
  },
  {
   "cell_type": "code",
   "execution_count": 70,
   "id": "69d5535a",
   "metadata": {},
   "outputs": [
    {
     "data": {
      "application/vnd.jupyter.widget-view+json": {
       "model_id": "889eead21c5847d09803a8d0764da333",
       "version_major": 2,
       "version_minor": 0
      },
      "text/plain": [
       "interactive(children=(Dropdown(description='Action', options=(('Predictions', 1), ('Domain blacklists', 2)), v…"
      ]
     },
     "metadata": {},
     "output_type": "display_data"
    }
   ],
   "source": [
    "@widgets.interact()\n",
    "def wid(Action=[('Predictions', 1), ('Domain blacklists', 2)]):\n",
    "    if Action == 1:\n",
    "        display(w_predictions)\n",
    "    else:\n",
    "        display(w_blacklist)"
   ]
  },
  {
   "cell_type": "code",
   "execution_count": 72,
   "id": "7e5923b1",
   "metadata": {},
   "outputs": [],
   "source": [
    "# manual parse of the string into dictionary\n",
    "text = DATA.iloc[0]['predictions']\n",
    "tmp = {}\n",
    "for s in text.replace('}', '').split(','):\n",
    "    key = s.split(\"'\")[1]\n",
    "    val = float(s.split(':')[1].strip())\n",
    "    tmp[key] = val"
   ]
  },
  {
   "cell_type": "markdown",
   "id": "26edab04",
   "metadata": {},
   "source": [
    "# Domains blacklist"
   ]
  },
  {
   "cell_type": "code",
   "execution_count": 73,
   "id": "5aba12ac",
   "metadata": {},
   "outputs": [],
   "source": [
    "domains_blacklist = pd.read_csv('domain_blacklist.txt', names=['domain'])['domain'].to_list()"
   ]
  },
  {
   "cell_type": "code",
   "execution_count": 74,
   "id": "dc1652c6",
   "metadata": {},
   "outputs": [],
   "source": [
    "#def remove_from_blacklist()"
   ]
  },
  {
   "cell_type": "code",
   "execution_count": 75,
   "id": "8bdfb308",
   "metadata": {},
   "outputs": [],
   "source": [
    "blist = widgets.SelectMultiple(\n",
    "    options=domains_blacklist,\n",
    "    value=[],\n",
    "    rows=10,\n",
    "    description='Domains',\n",
    "    disabled=False\n",
    ")\n",
    "domain_add_to_blacklist = widgets.Text(\n",
    "    value='',\n",
    "    placeholder='...add domain...',\n",
    "    description='',\n",
    "    disabled=False\n",
    ")"
   ]
  },
  {
   "cell_type": "code",
   "execution_count": 76,
   "id": "d48328af",
   "metadata": {},
   "outputs": [],
   "source": [
    "btn_add_to_blacklist = widgets.Button(\n",
    "    description='Add to blacklist',\n",
    "    disabled=False,\n",
    "    button_style='success', # 'success', 'info', 'warning', 'danger' or ''\n",
    "    tooltip='Add',\n",
    "    icon='check' # (FontAwesome names without the `fa-` prefix)\n",
    ")\n",
    "btn_remove_from_blacklist = widgets.Button(\n",
    "    description='Remove from blacklist',\n",
    "    disabled=False,\n",
    "    button_style='info', # 'success', 'info', 'warning', 'danger' or ''\n",
    "    tooltip='Remove',\n",
    "    layout=widgets.Layout(width='95%', alignment='right'),\n",
    "    icon='check' # (FontAwesome names without the `fa-` prefix)\n",
    ")\n",
    "def add_to_blacklist(*args):\n",
    "    new = domain_add_to_blacklist.value\n",
    "    if len(new) > 0 and '.' in new:\n",
    "        options = list(blist.options)\n",
    "        if new not in options:\n",
    "            options.append(new)\n",
    "            options.sort()\n",
    "            blist.options = options\n",
    "def remove_from_blacklist(*args):\n",
    "    selected = blist.value\n",
    "    if len(selected) > 0:\n",
    "        blist.options = [sel for sel in blist.options if sel not in selected]\n",
    "            \n",
    "btn_remove_from_blacklist.on_click(remove_from_blacklist)\n",
    "btn_add_to_blacklist.on_click(add_to_blacklist)"
   ]
  },
  {
   "cell_type": "code",
   "execution_count": 77,
   "id": "8bf922be",
   "metadata": {},
   "outputs": [],
   "source": [
    "w_blacklist = widgets.HBox([widgets.VBox([blist, btn_remove_from_blacklist]), widgets.VBox([domain_add_to_blacklist, btn_add_to_blacklist])], box_style='warning')"
   ]
  },
  {
   "cell_type": "code",
   "execution_count": 78,
   "id": "3fb26869",
   "metadata": {},
   "outputs": [
    {
     "data": {
      "application/vnd.jupyter.widget-view+json": {
       "model_id": "9aaf3dac41644e8ebb525a95bb310e15",
       "version_major": 2,
       "version_minor": 0
      },
      "text/plain": [
       "HBox(box_style='warning', children=(VBox(children=(SelectMultiple(description='Domains', options=('*.acs.org',…"
      ]
     },
     "metadata": {},
     "output_type": "display_data"
    }
   ],
   "source": [
    "w_blacklist"
   ]
  },
  {
   "cell_type": "code",
   "execution_count": 79,
   "id": "efa96017",
   "metadata": {},
   "outputs": [
    {
     "data": {
      "application/vnd.jupyter.widget-view+json": {
       "model_id": "03931a9263a24bc7ae168e47c399552c",
       "version_major": 2,
       "version_minor": 0
      },
      "text/plain": [
       "Tab(children=(VBox(children=(interactive(children=(Dropdown(description='x', options=(('https://1library.net',…"
      ]
     },
     "metadata": {},
     "output_type": "display_data"
    }
   ],
   "source": [
    "tab_contents = ['P0', 'P1', 'P2', 'P3', 'P4']\n",
    "children = [w_predictions, w_blacklist]\n",
    "tab = widgets.Tab()\n",
    "tab.children = children\n",
    "tab.titles = ('Company_activities', 'Domain blacklist', ) # does not work, wtf\n",
    "tab"
   ]
  }
 ],
 "metadata": {
  "kernelspec": {
   "display_name": "Python 3 (ipykernel)",
   "language": "python",
   "name": "python3"
  },
  "language_info": {
   "codemirror_mode": {
    "name": "ipython",
    "version": 3
   },
   "file_extension": ".py",
   "mimetype": "text/x-python",
   "name": "python",
   "nbconvert_exporter": "python",
   "pygments_lexer": "ipython3",
   "version": "3.8.8"
  }
 },
 "nbformat": 4,
 "nbformat_minor": 5
}
