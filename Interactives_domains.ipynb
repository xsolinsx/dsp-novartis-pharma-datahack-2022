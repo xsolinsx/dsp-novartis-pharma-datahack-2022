{
 "cells": [
  {
   "cell_type": "markdown",
   "id": "6a9ceb7a",
   "metadata": {},
   "source": [
    "# Domains"
   ]
  },
  {
   "cell_type": "code",
   "execution_count": 1,
   "id": "60ee19fd",
   "metadata": {},
   "outputs": [],
   "source": [
    "import pandas as pd\n",
    "import ipywidgets as widgets"
   ]
  },
  {
   "cell_type": "code",
   "execution_count": 2,
   "id": "718546a4",
   "metadata": {},
   "outputs": [],
   "source": [
    "with open('domain_blacklist.txt') as f:\n",
    "    domains_blacklist = [a.strip() for a in f.readlines()]"
   ]
  },
  {
   "cell_type": "code",
   "execution_count": 3,
   "id": "b8528fd8",
   "metadata": {},
   "outputs": [],
   "source": [
    "def clean_url(url):\n",
    "    if url.startswith('*.'):\n",
    "        return url[2:]\n",
    "    if url.startswith('www'):\n",
    "        return url[4:]\n",
    "    if url.startswith('*'):\n",
    "        return url[1:]\n",
    "    return url\n",
    "domains_blacklist = [clean_url(a) for a in domains_blacklist]"
   ]
  },
  {
   "cell_type": "code",
   "execution_count": 5,
   "id": "adbc9cbb",
   "metadata": {},
   "outputs": [],
   "source": [
    "domains_ds = pd.read_csv('domains_drug_substance.csv')\n",
    "#domains_ds = pd.read_csv('domains_drug_package.csv')\n",
    "#domains_ds = pd.read_csv('domains_analytical_development.csv')"
   ]
  },
  {
   "cell_type": "code",
   "execution_count": 7,
   "id": "e97a2bfa",
   "metadata": {},
   "outputs": [],
   "source": [
    "def test_blacklist(url):\n",
    "    return any([s in url for s in domains_blacklist])"
   ]
  },
  {
   "cell_type": "code",
   "execution_count": 8,
   "id": "ade64c15",
   "metadata": {},
   "outputs": [],
   "source": [
    "#domains_ds[domains_ds['domain'].apply(test_blacklist)]"
   ]
  },
  {
   "cell_type": "code",
   "execution_count": 9,
   "id": "9fe326c6",
   "metadata": {},
   "outputs": [],
   "source": [
    "domains_all = domains_ds['domain'].unique()\n",
    "domains_blacklisted = [domain for domain in domains_all if test_blacklist(domain)]"
   ]
  },
  {
   "cell_type": "code",
   "execution_count": 30,
   "id": "8fc496cb",
   "metadata": {},
   "outputs": [],
   "source": [
    "w_domains_list = widgets.SelectMultiple(\n",
    "    options=domains_all,\n",
    "    value=domains_blacklisted,\n",
    "    rows=15,\n",
    "    description='Domains_DP',\n",
    "    disabled=False\n",
    ")\n",
    "w_domains_blacklist = widgets.SelectMultiple(\n",
    "    options=domains_blacklist,\n",
    "    value=[],\n",
    "    rows=17,\n",
    "    description='Blacklist',\n",
    "    disabled=False\n",
    ")"
   ]
  },
  {
   "cell_type": "code",
   "execution_count": 11,
   "id": "0f22f5c0",
   "metadata": {},
   "outputs": [],
   "source": [
    "def select_activities(Activity = ['DP', 'DS', 'AD']):\n",
    "    filenames = {'DP': 'domains_drug_package.csv', 'AD': 'domains_analytical_development.csv', 'DS': 'domains_drug_substance.csv'}\n",
    "    filename = filenames[Activity]\n",
    "    domains_ds = pd.read_csv(filename)\n",
    "    domains_all = domains_ds['domain'].unique()\n",
    "    domains_blacklisted = [domain for domain in domains_all if test_blacklist(domain)]\n",
    "    w_domains_list.options = domains_all\n",
    "    w_domains_list.value=domains_blacklisted\n",
    "    w_domains_list.description = Activity\n",
    "\n"
   ]
  },
  {
   "cell_type": "code",
   "execution_count": 35,
   "id": "1e4f5cab",
   "metadata": {},
   "outputs": [],
   "source": [
    "# All widgets\n",
    "\n",
    "w_select_activity = widgets.interactive(select_activities)\n",
    "\n",
    "btn_add_to_blacklist = widgets.Button(\n",
    "    description='Add to blacklist',\n",
    "    disabled=False,\n",
    "    button_style='warning', # 'success', 'info', 'warning', 'danger' or ''\n",
    "    tooltip='Blacklist!',\n",
    "    layout=widgets.Layout(width='80%', position='right'),\n",
    "    icon='check' # (FontAwesome names without the `fa-` prefix)\n",
    ")\n",
    "\n",
    "btn_remove_from_blacklist = widgets.Button(\n",
    "    description='Remove from blacklist',\n",
    "    disabled=False,\n",
    "    button_style='success', # 'success', 'info', 'warning', 'danger' or ''\n",
    "    tooltip='Not blacklist!',\n",
    "    layout=widgets.Layout(width='80%', position='right'),\n",
    "    icon='ban' # (FontAwesome names without the `fa-` prefix)\n",
    ")\n",
    "\n",
    "def add_to_blacklist(*args):\n",
    "    global domains_blacklist\n",
    "    selected_domains = w_domains_list.value\n",
    "    if len(selected_domains) > 0:\n",
    "        urls = [clean_url(domain) for domain in selected_domains]\n",
    "        domains_blacklist.extend(urls)\n",
    "        domains_blacklist.sort()\n",
    "        w_domains_blacklist.options = domains_blacklist\n",
    "        \n",
    "def remove_from_blacklist(*args):\n",
    "    global domains_blacklist\n",
    "    selected_domains_ = w_domains_blacklist.value\n",
    "    if len(selected_domains_) > 0:\n",
    "        domains_blacklist = [domain for domain in domains_blacklist if domain not in selected_domains_]\n",
    "        w_domains_blacklist.options = domains_blacklist\n",
    "\n",
    "btn_add_to_blacklist.on_click(add_to_blacklist)\n",
    "\n",
    "btn_remove_from_blacklist.on_click(remove_from_blacklist)\n",
    "\n",
    "rLayout = widgets.Layout(align_items='flex-end')"
   ]
  },
  {
   "cell_type": "markdown",
   "id": "dae25e50",
   "metadata": {},
   "source": [
    "### Domains management\n",
    "Here the list of the left whows all the domains for the specific category, and domains from the blacklist are selected.\n",
    "\n",
    "Right list show the current blacklist.\n",
    "\n",
    "'Add to blacklist' adds selected domain from the left list to the right.\n",
    "\n",
    "'Removes from blacklist' removes :)"
   ]
  },
  {
   "cell_type": "code",
   "execution_count": 37,
   "id": "6e3eafec",
   "metadata": {},
   "outputs": [
    {
     "data": {
      "application/vnd.jupyter.widget-view+json": {
       "model_id": "fe3b727afe494a4abc82670aceed2749",
       "version_major": 2,
       "version_minor": 0
      },
      "text/plain": [
       "HBox(children=(VBox(children=(interactive(children=(Dropdown(description='Activity', index=2, options=('DP', '…"
      ]
     },
     "metadata": {},
     "output_type": "display_data"
    }
   ],
   "source": [
    "widgets.HBox([widgets.VBox([w_select_activity, w_domains_list,btn_add_to_blacklist], layout=rLayout), widgets.VBox([w_domains_blacklist, btn_remove_from_blacklist], layout=rLayout)])"
   ]
  }
 ],
 "metadata": {
  "kernelspec": {
   "display_name": "Python 3",
   "language": "python",
   "name": "python3"
  },
  "language_info": {
   "codemirror_mode": {
    "name": "ipython",
    "version": 3
   },
   "file_extension": ".py",
   "mimetype": "text/x-python",
   "name": "python",
   "nbconvert_exporter": "python",
   "pygments_lexer": "ipython3",
   "version": "3.8.5"
  }
 },
 "nbformat": 4,
 "nbformat_minor": 5
}
