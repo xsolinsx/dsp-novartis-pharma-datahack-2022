{
 "cells": [
  {
   "cell_type": "markdown",
   "metadata": {},
   "source": [
    "# Marker Research Hack"
   ]
  },
  {
   "cell_type": "markdown",
   "metadata": {},
   "source": [
    "## Company homepage domain search"
   ]
  },
  {
   "cell_type": "code",
   "execution_count": 1,
   "metadata": {},
   "outputs": [
    {
     "data": {
      "text/html": [
       "<div>\n",
       "<style scoped>\n",
       "    .dataframe tbody tr th:only-of-type {\n",
       "        vertical-align: middle;\n",
       "    }\n",
       "\n",
       "    .dataframe tbody tr th {\n",
       "        vertical-align: top;\n",
       "    }\n",
       "\n",
       "    .dataframe thead th {\n",
       "        text-align: right;\n",
       "    }\n",
       "</style>\n",
       "<table border=\"1\" class=\"dataframe\">\n",
       "  <thead>\n",
       "    <tr style=\"text-align: right;\">\n",
       "      <th></th>\n",
       "      <th>domain</th>\n",
       "    </tr>\n",
       "  </thead>\n",
       "  <tbody>\n",
       "    <tr>\n",
       "      <th>0</th>\n",
       "      <td>https://www.lonza.com/</td>\n",
       "    </tr>\n",
       "    <tr>\n",
       "      <th>1</th>\n",
       "      <td>https://www.boehringer-ingelheim.com/</td>\n",
       "    </tr>\n",
       "  </tbody>\n",
       "</table>\n",
       "</div>"
      ],
      "text/plain": [
       "                                  domain\n",
       "0                 https://www.lonza.com/\n",
       "1  https://www.boehringer-ingelheim.com/"
      ]
     },
     "execution_count": 1,
     "metadata": {},
     "output_type": "execute_result"
    }
   ],
   "source": [
    "import pandas as pd\n",
    "\n",
    "try:\n",
    "    blacklist = open(\"domain_blacklist.txt\", \"r+\").read().splitlines()\n",
    "except:\n",
    "    blacklist = ['wikipedia.com']  # make sure this mock code runs even if file is missing\n",
    "\n",
    "# TODO - PERFORM ACTUAL DOMAIN SEARCH\n",
    "domains = ['https://www.lonza.com/', 'https://www.boehringer-ingelheim.com/', 'wikipedia.com']\n",
    "\n",
    "df = pd.DataFrame({'domain': [domain for domain in domains if domain not in blacklist]})\n",
    "\n",
    "df.to_csv('domains.csv')\n",
    "df"
   ]
  },
  {
   "cell_type": "markdown",
   "metadata": {},
   "source": [
    "## Keyword extraction "
   ]
  },
  {
   "cell_type": "code",
   "execution_count": 2,
   "metadata": {},
   "outputs": [
    {
     "data": {
      "text/html": [
       "<div>\n",
       "<style scoped>\n",
       "    .dataframe tbody tr th:only-of-type {\n",
       "        vertical-align: middle;\n",
       "    }\n",
       "\n",
       "    .dataframe tbody tr th {\n",
       "        vertical-align: top;\n",
       "    }\n",
       "\n",
       "    .dataframe thead th {\n",
       "        text-align: right;\n",
       "    }\n",
       "</style>\n",
       "<table border=\"1\" class=\"dataframe\">\n",
       "  <thead>\n",
       "    <tr style=\"text-align: right;\">\n",
       "      <th></th>\n",
       "      <th>keywords</th>\n",
       "      <th>company_name</th>\n",
       "    </tr>\n",
       "    <tr>\n",
       "      <th>domain</th>\n",
       "      <th></th>\n",
       "      <th></th>\n",
       "    </tr>\n",
       "  </thead>\n",
       "  <tbody>\n",
       "    <tr>\n",
       "      <th>https://www.lonza.com/</th>\n",
       "      <td>[molecules, gene]</td>\n",
       "      <td>lonza</td>\n",
       "    </tr>\n",
       "    <tr>\n",
       "      <th>https://www.boehringer-ingelheim.com/</th>\n",
       "      <td>[psyshiary, health]</td>\n",
       "      <td>Boehringer Ingelheim</td>\n",
       "    </tr>\n",
       "  </tbody>\n",
       "</table>\n",
       "</div>"
      ],
      "text/plain": [
       "                                                  keywords  \\\n",
       "domain                                                       \n",
       "https://www.lonza.com/                   [molecules, gene]   \n",
       "https://www.boehringer-ingelheim.com/  [psyshiary, health]   \n",
       "\n",
       "                                               company_name  \n",
       "domain                                                       \n",
       "https://www.lonza.com/                                lonza  \n",
       "https://www.boehringer-ingelheim.com/  Boehringer Ingelheim  "
      ]
     },
     "execution_count": 2,
     "metadata": {},
     "output_type": "execute_result"
    }
   ],
   "source": [
    "domains = pd.read_csv('domains.csv')\n",
    "\n",
    "# TODO - PERFORM ACTUAL KEYWORD EXTRACTION\n",
    "df = pd.DataFrame({'keywords': [['molecules', 'gene'], ['psyshiary', 'health']],\n",
    "                   'company_name': ['lonza', 'Boehringer Ingelheim']},\n",
    "                 index=domains[\"domain\"])\n",
    "df.index.name = 'domain'\n",
    "\n",
    "df.to_csv('extracted_keywords.csv')\n",
    "df"
   ]
  },
  {
   "cell_type": "markdown",
   "metadata": {},
   "source": [
    "## Area of works classification"
   ]
  },
  {
   "cell_type": "code",
   "execution_count": 3,
   "metadata": {},
   "outputs": [
    {
     "data": {
      "text/html": [
       "<div>\n",
       "<style scoped>\n",
       "    .dataframe tbody tr th:only-of-type {\n",
       "        vertical-align: middle;\n",
       "    }\n",
       "\n",
       "    .dataframe tbody tr th {\n",
       "        vertical-align: top;\n",
       "    }\n",
       "\n",
       "    .dataframe thead th {\n",
       "        text-align: right;\n",
       "    }\n",
       "</style>\n",
       "<table border=\"1\" class=\"dataframe\">\n",
       "  <thead>\n",
       "    <tr style=\"text-align: right;\">\n",
       "      <th></th>\n",
       "      <th>predictions</th>\n",
       "    </tr>\n",
       "    <tr>\n",
       "      <th>domain</th>\n",
       "      <th></th>\n",
       "    </tr>\n",
       "  </thead>\n",
       "  <tbody>\n",
       "    <tr>\n",
       "      <th>https://www.lonza.com/</th>\n",
       "      <td>{'ad': 0.2, 'ds': 0.2, 'dp': 0.6}</td>\n",
       "    </tr>\n",
       "    <tr>\n",
       "      <th>https://www.boehringer-ingelheim.com/</th>\n",
       "      <td>{'ad': 0.2, 'ds': 0.2, 'dp': 0.6}</td>\n",
       "    </tr>\n",
       "  </tbody>\n",
       "</table>\n",
       "</div>"
      ],
      "text/plain": [
       "                                                             predictions\n",
       "domain                                                                  \n",
       "https://www.lonza.com/                 {'ad': 0.2, 'ds': 0.2, 'dp': 0.6}\n",
       "https://www.boehringer-ingelheim.com/  {'ad': 0.2, 'ds': 0.2, 'dp': 0.6}"
      ]
     },
     "execution_count": 3,
     "metadata": {},
     "output_type": "execute_result"
    }
   ],
   "source": [
    "keywords = pd.read_csv('extracted_keywords.csv')\n",
    "\n",
    "def classifier_predict(keywords):\n",
    "    # TODO - return actual trained-classifier predictions\n",
    "    return {'ad': 0.2, 'ds': 0.2, 'dp': 0.6}\n",
    "\n",
    "predictions = keywords[\"keywords\"].map(lambda keywords: classifier_predict(keywords))\n",
    "\n",
    "df = pd.DataFrame({'predictions': predictions.to_list()},\n",
    "                 index=domains[\"domain\"])\n",
    "df.index.name = 'domain'\n",
    "\n",
    "df.to_csv('area_of_works_predictions.csv')\n",
    "\n",
    "df"
   ]
  },
  {
   "cell_type": "markdown",
   "metadata": {},
   "source": [
    "## Interactive user interface "
   ]
  },
  {
   "cell_type": "code",
   "execution_count": 4,
   "metadata": {},
   "outputs": [
    {
     "data": {
      "text/html": [
       "<div>\n",
       "<style scoped>\n",
       "    .dataframe tbody tr th:only-of-type {\n",
       "        vertical-align: middle;\n",
       "    }\n",
       "\n",
       "    .dataframe tbody tr th {\n",
       "        vertical-align: top;\n",
       "    }\n",
       "\n",
       "    .dataframe thead th {\n",
       "        text-align: right;\n",
       "    }\n",
       "</style>\n",
       "<table border=\"1\" class=\"dataframe\">\n",
       "  <thead>\n",
       "    <tr style=\"text-align: right;\">\n",
       "      <th></th>\n",
       "      <th>domain</th>\n",
       "      <th>keywords</th>\n",
       "      <th>company_name</th>\n",
       "      <th>predictions</th>\n",
       "    </tr>\n",
       "  </thead>\n",
       "  <tbody>\n",
       "    <tr>\n",
       "      <th>0</th>\n",
       "      <td>https://www.lonza.com/</td>\n",
       "      <td>['molecules', 'gene']</td>\n",
       "      <td>lonza</td>\n",
       "      <td>{'ad': 0.2, 'ds': 0.2, 'dp': 0.6}</td>\n",
       "    </tr>\n",
       "    <tr>\n",
       "      <th>1</th>\n",
       "      <td>https://www.boehringer-ingelheim.com/</td>\n",
       "      <td>['psyshiary', 'health']</td>\n",
       "      <td>Boehringer Ingelheim</td>\n",
       "      <td>{'ad': 0.2, 'ds': 0.2, 'dp': 0.6}</td>\n",
       "    </tr>\n",
       "  </tbody>\n",
       "</table>\n",
       "</div>"
      ],
      "text/plain": [
       "                                  domain                 keywords  \\\n",
       "0                 https://www.lonza.com/    ['molecules', 'gene']   \n",
       "1  https://www.boehringer-ingelheim.com/  ['psyshiary', 'health']   \n",
       "\n",
       "           company_name                        predictions  \n",
       "0                 lonza  {'ad': 0.2, 'ds': 0.2, 'dp': 0.6}  \n",
       "1  Boehringer Ingelheim  {'ad': 0.2, 'ds': 0.2, 'dp': 0.6}  "
      ]
     },
     "execution_count": 4,
     "metadata": {},
     "output_type": "execute_result"
    }
   ],
   "source": [
    "keywords = pd.read_csv('extracted_keywords.csv')\n",
    "area_of_works_predictions = pd.read_csv('area_of_works_predictions.csv')\n",
    "\n",
    "\n",
    "\"\"\"\n",
    "TODO\n",
    "show a UI with buttons with functionality for flagging domains (which writes to domains_blacklist.txt) and\n",
    "flagging kywords (which writes to keywords_blacklist.txt)\n",
    "\"\"\"\n",
    "pd.merge(keywords, area_of_works_predictions)\n"
   ]
  }
 ],
 "metadata": {
  "kernelspec": {
   "display_name": "Python 3 (ipykernel)",
   "language": "python",
   "name": "python3"
  },
  "language_info": {
   "codemirror_mode": {
    "name": "ipython",
    "version": 3
   },
   "file_extension": ".py",
   "mimetype": "text/x-python",
   "name": "python",
   "nbconvert_exporter": "python",
   "pygments_lexer": "ipython3",
   "version": "3.8.8"
  }
 },
 "nbformat": 4,
 "nbformat_minor": 4
}
