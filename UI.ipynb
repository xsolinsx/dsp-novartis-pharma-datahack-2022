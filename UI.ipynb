{
 "cells": [
  {
   "cell_type": "code",
   "execution_count": 4,
   "id": "50da4bc0",
   "metadata": {},
   "outputs": [],
   "source": [
    "import pandas as pd\n",
    "import numpy as np\n",
    "import ipywidgets as widgets\n",
    "import matplotlib.pyplot as plt\n",
    "import io\n",
    "from IPython.display import display"
   ]
  },
  {
   "cell_type": "code",
   "execution_count": 5,
   "id": "a9c30350",
   "metadata": {},
   "outputs": [
    {
     "data": {
      "text/html": [
       "<div>\n",
       "<style scoped>\n",
       "    .dataframe tbody tr th:only-of-type {\n",
       "        vertical-align: middle;\n",
       "    }\n",
       "\n",
       "    .dataframe tbody tr th {\n",
       "        vertical-align: top;\n",
       "    }\n",
       "\n",
       "    .dataframe thead th {\n",
       "        text-align: right;\n",
       "    }\n",
       "</style>\n",
       "<table border=\"1\" class=\"dataframe\">\n",
       "  <thead>\n",
       "    <tr style=\"text-align: right;\">\n",
       "      <th></th>\n",
       "      <th>domain</th>\n",
       "      <th>keywords</th>\n",
       "      <th>company_name</th>\n",
       "      <th>not_mapped</th>\n",
       "      <th>mapping_area</th>\n",
       "      <th>prediction</th>\n",
       "    </tr>\n",
       "  </thead>\n",
       "  <tbody>\n",
       "    <tr>\n",
       "      <th>0</th>\n",
       "      <td>https://3pbio.com</td>\n",
       "      <td>['recombinant proteins', 'clinical manufacturi...</td>\n",
       "      <td>3pbio</td>\n",
       "      <td>[]</td>\n",
       "      <td>{'recombinant proteins': ['DS'], 'clinical man...</td>\n",
       "      <td>{'DP': 0.2051, 'DS': 0.7436, 'AD': 0.0513}</td>\n",
       "    </tr>\n",
       "    <tr>\n",
       "      <th>1</th>\n",
       "      <td>https://abzena.com</td>\n",
       "      <td>['cell line development', 'mammalian cell cult...</td>\n",
       "      <td>Abzena</td>\n",
       "      <td>[]</td>\n",
       "      <td>{'cell line development': ['DS'], 'mammalian c...</td>\n",
       "      <td>{'DP': 0.0667, 'DS': 0.9333, 'AD': 0.0}</td>\n",
       "    </tr>\n",
       "    <tr>\n",
       "      <th>2</th>\n",
       "      <td>https://adarepharmasolutions.com</td>\n",
       "      <td>['drug product development', 'clinical trial',...</td>\n",
       "      <td>Adarepharmasolutions</td>\n",
       "      <td>[]</td>\n",
       "      <td>{'drug product development': ['DS'], 'clinical...</td>\n",
       "      <td>{'DP': 0.4556, 'DS': 0.4556, 'AD': 0.0889}</td>\n",
       "    </tr>\n",
       "    <tr>\n",
       "      <th>3</th>\n",
       "      <td>https://adelphi-hp.com</td>\n",
       "      <td>['vials', 'shelf life', 'syringes', 'vial', 'd...</td>\n",
       "      <td>Adelphi-hp</td>\n",
       "      <td>[]</td>\n",
       "      <td>{'vials': ['DP'], 'shelf life': ['DS'], 'syrin...</td>\n",
       "      <td>{'DP': 0.5556, 'DS': 0.3889, 'AD': 0.0556}</td>\n",
       "    </tr>\n",
       "    <tr>\n",
       "      <th>4</th>\n",
       "      <td>http://alttox.org</td>\n",
       "      <td>['research and development', 'cell lines', 'ph...</td>\n",
       "      <td>Alttox</td>\n",
       "      <td>[]</td>\n",
       "      <td>{'research and development': ['DS'], 'cell lin...</td>\n",
       "      <td>{'DP': 0.1667, 'DS': 0.7, 'AD': 0.1333}</td>\n",
       "    </tr>\n",
       "  </tbody>\n",
       "</table>\n",
       "</div>"
      ],
      "text/plain": [
       "                             domain  \\\n",
       "0                 https://3pbio.com   \n",
       "1                https://abzena.com   \n",
       "2  https://adarepharmasolutions.com   \n",
       "3            https://adelphi-hp.com   \n",
       "4                 http://alttox.org   \n",
       "\n",
       "                                            keywords          company_name  \\\n",
       "0  ['recombinant proteins', 'clinical manufacturi...                 3pbio   \n",
       "1  ['cell line development', 'mammalian cell cult...                Abzena   \n",
       "2  ['drug product development', 'clinical trial',...  Adarepharmasolutions   \n",
       "3  ['vials', 'shelf life', 'syringes', 'vial', 'd...            Adelphi-hp   \n",
       "4  ['research and development', 'cell lines', 'ph...                Alttox   \n",
       "\n",
       "  not_mapped                                       mapping_area  \\\n",
       "0         []  {'recombinant proteins': ['DS'], 'clinical man...   \n",
       "1         []  {'cell line development': ['DS'], 'mammalian c...   \n",
       "2         []  {'drug product development': ['DS'], 'clinical...   \n",
       "3         []  {'vials': ['DP'], 'shelf life': ['DS'], 'syrin...   \n",
       "4         []  {'research and development': ['DS'], 'cell lin...   \n",
       "\n",
       "                                   prediction  \n",
       "0  {'DP': 0.2051, 'DS': 0.7436, 'AD': 0.0513}  \n",
       "1     {'DP': 0.0667, 'DS': 0.9333, 'AD': 0.0}  \n",
       "2  {'DP': 0.4556, 'DS': 0.4556, 'AD': 0.0889}  \n",
       "3  {'DP': 0.5556, 'DS': 0.3889, 'AD': 0.0556}  \n",
       "4     {'DP': 0.1667, 'DS': 0.7, 'AD': 0.1333}  "
      ]
     },
     "execution_count": 5,
     "metadata": {},
     "output_type": "execute_result"
    }
   ],
   "source": [
    "DATA = pd.read_csv('area_of_work_prediction3.csv')\n",
    "DATA.head()"
   ]
  },
  {
   "cell_type": "markdown",
   "id": "75acc771",
   "metadata": {},
   "source": [
    "# Prediction widget"
   ]
  },
  {
   "cell_type": "code",
   "execution_count": 6,
   "id": "8f92e682",
   "metadata": {},
   "outputs": [],
   "source": [
    "out = widgets.Output()#(layout={'border': '1px solid black'})"
   ]
  },
  {
   "cell_type": "code",
   "execution_count": 7,
   "id": "319b069e",
   "metadata": {},
   "outputs": [],
   "source": [
    "wlist = widgets.SelectMultiple(\n",
    "    options=[],\n",
    "    value=[],\n",
    "    rows=10,\n",
    "    description='Keywords',\n",
    "    disabled=False\n",
    ")\n",
    "\n",
    "w_not_mapped_keywords = widgets.SelectMultiple(\n",
    "    options=[],\n",
    "    value=[],\n",
    "    rows=10,\n",
    "    description='Not mapped keywords',\n",
    "    disabled=False\n",
    ")"
   ]
  },
  {
   "cell_type": "code",
   "execution_count": 8,
   "id": "4bde8bb2",
   "metadata": {},
   "outputs": [],
   "source": [
    "def test_keyword_match(row, keyword):\n",
    "    _keywords = eval(row['keywords'])\n",
    "    return any([keyword in _keyword for _keyword in _keywords])"
   ]
  },
  {
   "cell_type": "code",
   "execution_count": 9,
   "id": "aa7fa1cd",
   "metadata": {},
   "outputs": [],
   "source": [
    "#DATA.apply(test_keyword_match, axis=1, args=('resear', ))"
   ]
  },
  {
   "cell_type": "code",
   "execution_count": 10,
   "id": "547bf3dc",
   "metadata": {},
   "outputs": [],
   "source": [
    "def show_domain_():\n",
    "    Domain = w_domains_list.value\n",
    "    sub = DATA['domain'] == Domain\n",
    "    if sum(sub) > 0:\n",
    "        predictions = eval(DATA.loc[sub, 'prediction'].to_list()[0])\n",
    "        kwords = eval(DATA.loc[sub, 'keywords'].to_list()[0])\n",
    "        wlist.options = kwords\n",
    "        name = DATA.loc[sub, 'company_name'].to_list()[0]\n",
    "        text = list(predictions.keys())\n",
    "        values = list(predictions.values())\n",
    "        pred = text[values.index(max(values))]\n",
    "        with out:\n",
    "            out.clear_output()\n",
    "            print('Company name: ', name)\n",
    "            print('Predicted activity: ', pred.upper())\n",
    "            plt.cla() # Clearing the ax\n",
    "            plt.bar(list(range(len(values))), values, edgecolor='k')\n",
    "            for idx, t in enumerate(text):\n",
    "                plt.text(idx, values[idx], f'{100*values[idx]:.0f}%', va='bottom', ha='center', fontsize = 16)\n",
    "            plt.xticks(list(range(len(values))), [s.upper() for s in text], fontsize=16)\n",
    "            if max(values) < 0.9:\n",
    "                plt.ylim(0, 1)\n",
    "            else:\n",
    "                plt.ylim(0, 1.2)\n",
    "            plt.yticks([])\n",
    "            plt.show('off')\n",
    "    else:\n",
    "        clear_all()\n",
    "            \n",
    "btn_approve = widgets.Button(\n",
    "    description='Approve domain',\n",
    "    disabled=False,\n",
    "    button_style='success', # 'success', 'info', 'warning', 'danger' or ''\n",
    "    tooltip='Approve!',\n",
    "    layout=widgets.Layout(width='70%'),\n",
    "    icon='check' # (FontAwesome names without the `fa-` prefix)\n",
    ")\n",
    "btn_reject = widgets.Button(\n",
    "    description='To blacklist',\n",
    "    disabled=False,\n",
    "    button_style='danger', # 'success', 'info', 'warning', 'danger' or ''\n",
    "    tooltip='Reject!',\n",
    "    layout=widgets.Layout(width='70%'),\n",
    "    icon='ban' # (FontAwesome names without the `fa-` prefix)\n",
    ")\n",
    "def approve(*args):\n",
    "    pass\n",
    "def reject(*args):\n",
    "    pass\n",
    "btn_approve.on_click(approve)\n",
    "btn_reject.on_click(reject)"
   ]
  },
  {
   "cell_type": "code",
   "execution_count": 11,
   "id": "a1fda717",
   "metadata": {},
   "outputs": [],
   "source": [
    "def filter_by_keyword(*args):\n",
    "    clear_all()\n",
    "    filter_keyword = w_filter_text.value\n",
    "    if len(filter_keyword) >= 3:\n",
    "        subset = DATA.apply(test_keyword_match, axis=1, args=(filter_keyword, ))\n",
    "        filtered_domains = DATA[subset]['domain']\n",
    "        w_domains_list.options = filtered_domains\n",
    "    else:\n",
    "        w_domains_list.options = DATA['domain'].to_list()"
   ]
  },
  {
   "cell_type": "code",
   "execution_count": 12,
   "id": "9e504092",
   "metadata": {},
   "outputs": [],
   "source": [
    "w_filter_text = widgets.Text(\n",
    "    value='',\n",
    "    placeholder='filter keywords...',\n",
    "    description='Filter',\n",
    "    disabled=False\n",
    ")\n",
    "btn_filter = button = widgets.Button(\n",
    "    description='Filter!',\n",
    "    disabled=False,\n",
    "    button_style='', # 'success', 'info', 'warning', 'danger' or ''\n",
    "    tooltip='Click to filter',\n",
    "    icon='check' # (FontAwesome names without the `fa-` prefix)\n",
    ")\n",
    "btn_filter.on_click(filter_by_keyword)\n",
    "w_filter = widgets.HBox([w_filter_text, btn_filter])"
   ]
  },
  {
   "cell_type": "code",
   "execution_count": 13,
   "id": "ee6a6d07",
   "metadata": {},
   "outputs": [],
   "source": [
    "domains_list = DATA['domain'].to_list()"
   ]
  },
  {
   "cell_type": "code",
   "execution_count": 14,
   "id": "f9a17b44",
   "metadata": {},
   "outputs": [],
   "source": [
    "w_domains_list = widgets.Dropdown(\n",
    "    options=domains_list,\n",
    "    value=domains_list[0],\n",
    "    description='Domain'\n",
    ")\n",
    "def on_change(change):\n",
    "    if change['type'] == 'change':\n",
    "        show_domain_()\n",
    "w_domains_list.observe(on_change)"
   ]
  },
  {
   "cell_type": "code",
   "execution_count": 15,
   "id": "defcf57b",
   "metadata": {},
   "outputs": [],
   "source": [
    "def clear_all():\n",
    "    wlist.options = []\n",
    "    with out:\n",
    "        out.clear_output()"
   ]
  },
  {
   "cell_type": "code",
   "execution_count": 16,
   "id": "12730731",
   "metadata": {},
   "outputs": [],
   "source": [
    "rLayout = widgets.Layout(align_items='flex-end')"
   ]
  },
  {
   "cell_type": "code",
   "execution_count": 17,
   "id": "71880a94",
   "metadata": {},
   "outputs": [],
   "source": [
    "w_predictions = widgets.VBox([w_filter, widgets.HBox([widgets.VBox([w_domains_list, wlist, btn_approve, btn_reject], layout=rLayout), out])])"
   ]
  },
  {
   "cell_type": "code",
   "execution_count": 18,
   "id": "8c9a273f",
   "metadata": {},
   "outputs": [],
   "source": [
    "#w_predictions = widgets.VBox([w_filter, w, widgets.HBox([out, widgets.VBox([wlist, widgets.HBox([btn_approve, btn_reject])])])])"
   ]
  },
  {
   "cell_type": "code",
   "execution_count": 19,
   "id": "0488a979",
   "metadata": {},
   "outputs": [],
   "source": [
    "w_approved_domains = widgets.HBox([widgets.VBox([w_domains_list, wlist, btn_reject], layout=rLayout), out])\n",
    "w_blacklisted_domains = widgets.HBox([widgets.VBox([w_domains_list, wlist, btn_approve], layout=rLayout), out])"
   ]
  },
  {
   "cell_type": "code",
   "execution_count": 20,
   "id": "3ddb0512",
   "metadata": {},
   "outputs": [
    {
     "data": {
      "text/plain": [
       "{'DP': 0.2051, 'DS': 0.7436, 'AD': 0.0513}"
      ]
     },
     "execution_count": 20,
     "metadata": {},
     "output_type": "execute_result"
    }
   ],
   "source": [
    "# manual parse of the string into dictionary\n",
    "text = DATA.iloc[0]['prediction']\n",
    "tmp = {}\n",
    "for s in text.replace('}', '').split(','):\n",
    "    key = s.split(\"'\")[1]\n",
    "    val = float(s.split(':')[1].strip())\n",
    "    tmp[key] = val\n",
    "tmp"
   ]
  },
  {
   "cell_type": "markdown",
   "id": "558d10e7",
   "metadata": {},
   "source": [
    "# File uploader widget"
   ]
  },
  {
   "cell_type": "code",
   "execution_count": 21,
   "id": "a598448d",
   "metadata": {},
   "outputs": [],
   "source": [
    "btn_file_uploader = widgets.FileUpload(\n",
    "    accept='.txt,.csv',\n",
    "    multiple=False\n",
    ")\n",
    "out_file = widgets.Output()\n",
    "btn_file_upload = widgets.Button(\n",
    "    description='Upload file!',\n",
    "    disabled=False,\n",
    "    button_style='success', # 'success', 'info', 'warning', 'danger' or ''\n",
    "    tooltip='upload',\n",
    "    layout=widgets.Layout(width='300px'),\n",
    "    icon='check' # (FontAwesome names without the `fa-` prefix)\n",
    ")\n",
    "def upload_file(*args):\n",
    "    uploaded = list(btn_file_uploader.value.keys())\n",
    "    if len(uploaded) > 0:\n",
    "        key = uploaded[0]\n",
    "        try:\n",
    "            tmp = pd.read_csv(io.BytesIO(btn_file_uploader.value[key]['content']))\n",
    "            with out_file:\n",
    "                out_file.clear_output()\n",
    "                display(tmp)\n",
    "        except:\n",
    "            with out_file:\n",
    "                out_file.clear_output()\n",
    "                print('File type not supported yet')\n",
    "btn_file_upload.on_click(upload_file)"
   ]
  },
  {
   "cell_type": "code",
   "execution_count": 22,
   "id": "e2f1958d",
   "metadata": {},
   "outputs": [],
   "source": [
    "w_file_uploader = widgets.VBox([widgets.HBox([btn_file_uploader, btn_file_upload]), out_file])"
   ]
  },
  {
   "cell_type": "markdown",
   "id": "eafb5c82",
   "metadata": {},
   "source": [
    "# Search engine widget"
   ]
  },
  {
   "cell_type": "code",
   "execution_count": 23,
   "id": "363a47e4",
   "metadata": {},
   "outputs": [],
   "source": [
    "known_keywords = pd.read_csv('known_keywords.csv')['keyword'].to_list()"
   ]
  },
  {
   "cell_type": "code",
   "execution_count": 24,
   "id": "d5d8eb73",
   "metadata": {},
   "outputs": [],
   "source": [
    "#known_keywords"
   ]
  },
  {
   "cell_type": "code",
   "execution_count": 25,
   "id": "c5d3e337",
   "metadata": {},
   "outputs": [],
   "source": [
    "btn_start_engine = widgets.Button(\n",
    "    description='Run search',\n",
    "    disabled=False,\n",
    "    button_style='info', # 'success', 'info', 'warning', 'danger' or ''\n",
    "    tooltip='Run!',\n",
    "    layout=widgets.Layout(width='300px', height='50px'),\n",
    "    icon='check' # (FontAwesome names without the `fa-` prefix)\n",
    ")\n",
    "w_known_keywords = widgets.SelectMultiple(\n",
    "    options = known_keywords,\n",
    "    description='Keywords',\n",
    "    layout=widgets.Layout(width='300px'),\n",
    "    rows=10\n",
    "        \n",
    ")\n",
    "btn_remove_keyword = widgets.Button(\n",
    "    description='Remove selected',\n",
    "    disabled=False,\n",
    "    button_style='danger', # 'success', 'info', 'warning', 'danger' or ''\n",
    "    tooltip='Remove',\n",
    "    layout=widgets.Layout(width='300px'),\n",
    "    icon='ban' # (FontAwesome names without the `fa-` prefix)\n",
    ")\n",
    "btn_add_keyword = widgets.Button(\n",
    "    description='Add new',\n",
    "    disabled=False,\n",
    "    button_style='success', # 'success', 'info', 'warning', 'danger' or ''\n",
    "    tooltip='Add',\n",
    "    icon='plus' # (FontAwesome names without the `fa-` prefix)\n",
    ")\n",
    "txt_add_keyword = widgets.Text()\n",
    "w_add_keyword = widgets.HBox([txt_add_keyword, btn_add_keyword], layout=widgets.Layout(width='300px'))\n",
    "\n",
    "def remove_keyword(*args):\n",
    "    global known_keywords\n",
    "    selected = w_known_keywords.value\n",
    "    if len(selected) > 0:\n",
    "        known_keywords = [kw for kw in known_keywords if kw not in selected]\n",
    "        w_known_keywords.options = known_keywords\n",
    "\n",
    "def add_keyword(*args):\n",
    "    global known_keywords\n",
    "    kw = txt_add_keyword.value\n",
    "    if len(kw) >= 3:\n",
    "        if kw not in known_keywords:\n",
    "            known_keywords.append(kw)\n",
    "            w_known_keywords.options = known_keywords\n",
    "        \n",
    "btn_add_keyword.on_click(add_keyword)\n",
    "btn_remove_keyword.on_click(remove_keyword)"
   ]
  },
  {
   "cell_type": "code",
   "execution_count": 26,
   "id": "89c23256",
   "metadata": {},
   "outputs": [],
   "source": [
    "w_search_engine = widgets.VBox([btn_start_engine, w_known_keywords, btn_remove_keyword, w_add_keyword])"
   ]
  },
  {
   "cell_type": "markdown",
   "id": "7e0369ae",
   "metadata": {},
   "source": [
    "# KEYWORDS widget"
   ]
  },
  {
   "cell_type": "code",
   "execution_count": 30,
   "id": "2c81917b",
   "metadata": {},
   "outputs": [],
   "source": [
    "txt_add_keyword_ = widgets.Text(\n",
    "    layout=widgets.Layout(width='150px'),\n",
    "    placeholder='new keyword...',\n",
    ")\n",
    "txt_keyword_category_ = widgets.Dropdown(\n",
    "    options=['DP', 'DS', 'AD'],\n",
    "    layout=widgets.Layout(width='150px'),\n",
    "    value='DP',\n",
    "    description='',\n",
    ")\n",
    "btn_add_keyword_ = widgets.Button(\n",
    "    description='Add new',\n",
    "    disabled=False,\n",
    "    button_style='success', # 'success', 'info', 'warning', 'danger' or ''\n",
    "    tooltip='Add',\n",
    "    layout=widgets.Layout(width='150px'),\n",
    "    icon='plus' # (FontAwesome names without the `fa-` prefix)\n",
    ")\n",
    "btn_remove_keyword_ = widgets.Button(\n",
    "    description='Remove selected',\n",
    "    disabled=False,\n",
    "    button_style='danger', # 'success', 'info', 'warning', 'danger' or ''\n",
    "    tooltip='Remove',\n",
    "    layout=widgets.Layout(width='150px'),\n",
    "    icon='ban' # (FontAwesome names without the `fa-` prefix)\n",
    ")\n",
    "list_keywords_ = widgets.Select(\n",
    "    options = known_keywords[:20],\n",
    "    rows=15,\n",
    "    layout=widgets.Layout(width='250px')\n",
    ")\n",
    "def choose_category(change):\n",
    "    global known_keywords\n",
    "    if change['type'] == 'change':\n",
    "        value = txt_keyword_category_.value\n",
    "        if value == 'DP':\n",
    "            list_keywords_.options = known_keywords[:20]\n",
    "        elif value == 'AD':\n",
    "            list_keywords_.options = known_keywords[20:40]\n",
    "        elif value == 'DS':\n",
    "            list_keywords_.options = known_keywords[40:60]\n",
    "\n",
    "txt_keyword_category_.observe(choose_category)\n",
    "w_domains_list.observe(on_change)"
   ]
  },
  {
   "cell_type": "code",
   "execution_count": 31,
   "id": "4daf8409",
   "metadata": {},
   "outputs": [
    {
     "data": {
      "application/vnd.jupyter.widget-view+json": {
       "model_id": "d7f7f1bdb4d64c31a65d281bfe0066d6",
       "version_major": 2,
       "version_minor": 0
      },
      "text/plain": [
       "HBox(children=(Text(value='', layout=Layout(width='150px'), placeholder='new keyword...'), Button(button_style…"
      ]
     },
     "metadata": {},
     "output_type": "display_data"
    }
   ],
   "source": [
    "w_add_keyword_ = widgets.HBox([txt_add_keyword_, btn_add_keyword_])\n",
    "w_add_keyword_"
   ]
  },
  {
   "cell_type": "code",
   "execution_count": 33,
   "id": "075458f6",
   "metadata": {},
   "outputs": [],
   "source": [
    "w_keywords = widgets.HBox([widgets.VBox([txt_keyword_category_, txt_add_keyword_, btn_add_keyword_, btn_remove_keyword_]), list_keywords_])\n",
    "#w_keywords"
   ]
  },
  {
   "cell_type": "markdown",
   "id": "1182f34e",
   "metadata": {},
   "source": [
    "# MAIN WIDGET"
   ]
  },
  {
   "cell_type": "code",
   "execution_count": 34,
   "id": "5e97a028",
   "metadata": {},
   "outputs": [],
   "source": [
    "children = [w_search_engine, w_predictions, w_approved_domains, w_blacklisted_domains, w_keywords, w_file_uploader]\n",
    "w_main = widgets.Tab()\n",
    "w_main.children = children\n",
    "#tab.titles = ('New domains', ) # does not work, wtf\n",
    "w_main.set_title(0, 'Search engine')\n",
    "w_main.set_title(1, 'New domains')\n",
    "w_main.set_title(2, 'Approved domains')\n",
    "w_main.set_title(3, 'Domains blacklist')\n",
    "w_main.set_title(4, 'Keywords')\n",
    "w_main.set_title(5, 'Upload file')"
   ]
  },
  {
   "cell_type": "code",
   "execution_count": 35,
   "id": "2142da57",
   "metadata": {},
   "outputs": [
    {
     "data": {
      "application/vnd.jupyter.widget-view+json": {
       "model_id": "412a32c0e27441b7be468061402c1ed6",
       "version_major": 2,
       "version_minor": 0
      },
      "text/plain": [
       "Tab(children=(VBox(children=(Button(button_style='info', description='Run search', icon='check', layout=Layout…"
      ]
     },
     "metadata": {},
     "output_type": "display_data"
    }
   ],
   "source": [
    "w_main"
   ]
  }
 ],
 "metadata": {
  "kernelspec": {
   "display_name": "Python 3",
   "language": "python",
   "name": "python3"
  },
  "language_info": {
   "codemirror_mode": {
    "name": "ipython",
    "version": 3
   },
   "file_extension": ".py",
   "mimetype": "text/x-python",
   "name": "python",
   "nbconvert_exporter": "python",
   "pygments_lexer": "ipython3",
   "version": "3.8.5"
  }
 },
 "nbformat": 4,
 "nbformat_minor": 5
}
